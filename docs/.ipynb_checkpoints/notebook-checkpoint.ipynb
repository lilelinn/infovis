{
 "cells": [
  {
   "cell_type": "markdown",
   "id": "f0772317",
   "metadata": {},
   "source": [
    "# De relatie tussen het aantal schietincidenten en het BBP in de Verenigde Staten\n",
    "\n",
    "<br>Mouna Ben Kaddour (14636549)</br>\n",
    "Rutger Bleeker (13797646)\n",
    "<br>Benjamin Kuus (14394081)</br>\n",
    "Lile Lin (14654806)\n",
    "\n",
    "Groep: D1"
   ]
  },
  {
   "cell_type": "code",
   "execution_count": 1,
   "id": "166a3582",
   "metadata": {
    "tags": [
     "hide-cell"
    ]
   },
   "outputs": [],
   "source": [
    "import plotly.graph_objs as go\n",
    "import plotly.express as px\n",
    "import pandas as pd\n",
    "import numpy as np\n",
    "import matplotlib.pyplot as plt\n",
    "import matplotlib\n",
    "import seaborn as sns\n",
    "from plotly.subplots import make_subplots"
   ]
  },
  {
   "cell_type": "code",
   "execution_count": 2,
   "id": "c9314eb0",
   "metadata": {
    "tags": [
     "hide-cell"
    ]
   },
   "outputs": [],
   "source": [
    "gdp = pd.read_csv('gdp_cleaned.csv')\n",
    "gv = pd.read_csv('gvcleaned.csv')\n",
    "gc = pd.read_csv('gc_cleaned.csv')\n",
    "imfdf = pd.read_csv('imfdm_cleaned.csv')"
   ]
  },
  {
   "cell_type": "markdown",
   "id": "e48986c6",
   "metadata": {},
   "source": [
    "## Introductie"
   ]
  },
  {
   "cell_type": "code",
   "execution_count": 6,
   "id": "17577849",
   "metadata": {
    "scrolled": false,
    "tags": [
     "hide-input"
    ]
   },
   "outputs": [
    {
     "data": {
      "application/vnd.plotly.v1+json": {
       "config": {
        "plotlyServerURL": "https://plot.ly"
       },
       "data": [
        {
         "line": {
          "color": "#ff8800"
         },
         "mode": "lines",
         "type": "scatter",
         "x": [
          2013,
          2014,
          2015,
          2016,
          2017
         ],
         "y": [
          272,
          51016,
          53041,
          58266,
          60259
         ]
        }
       ],
       "layout": {
        "template": {
         "data": {
          "bar": [
           {
            "error_x": {
             "color": "#2a3f5f"
            },
            "error_y": {
             "color": "#2a3f5f"
            },
            "marker": {
             "line": {
              "color": "#E5ECF6",
              "width": 0.5
             },
             "pattern": {
              "fillmode": "overlay",
              "size": 10,
              "solidity": 0.2
             }
            },
            "type": "bar"
           }
          ],
          "barpolar": [
           {
            "marker": {
             "line": {
              "color": "#E5ECF6",
              "width": 0.5
             },
             "pattern": {
              "fillmode": "overlay",
              "size": 10,
              "solidity": 0.2
             }
            },
            "type": "barpolar"
           }
          ],
          "carpet": [
           {
            "aaxis": {
             "endlinecolor": "#2a3f5f",
             "gridcolor": "white",
             "linecolor": "white",
             "minorgridcolor": "white",
             "startlinecolor": "#2a3f5f"
            },
            "baxis": {
             "endlinecolor": "#2a3f5f",
             "gridcolor": "white",
             "linecolor": "white",
             "minorgridcolor": "white",
             "startlinecolor": "#2a3f5f"
            },
            "type": "carpet"
           }
          ],
          "choropleth": [
           {
            "colorbar": {
             "outlinewidth": 0,
             "ticks": ""
            },
            "type": "choropleth"
           }
          ],
          "contour": [
           {
            "colorbar": {
             "outlinewidth": 0,
             "ticks": ""
            },
            "colorscale": [
             [
              0,
              "#0d0887"
             ],
             [
              0.1111111111111111,
              "#46039f"
             ],
             [
              0.2222222222222222,
              "#7201a8"
             ],
             [
              0.3333333333333333,
              "#9c179e"
             ],
             [
              0.4444444444444444,
              "#bd3786"
             ],
             [
              0.5555555555555556,
              "#d8576b"
             ],
             [
              0.6666666666666666,
              "#ed7953"
             ],
             [
              0.7777777777777778,
              "#fb9f3a"
             ],
             [
              0.8888888888888888,
              "#fdca26"
             ],
             [
              1,
              "#f0f921"
             ]
            ],
            "type": "contour"
           }
          ],
          "contourcarpet": [
           {
            "colorbar": {
             "outlinewidth": 0,
             "ticks": ""
            },
            "type": "contourcarpet"
           }
          ],
          "heatmap": [
           {
            "colorbar": {
             "outlinewidth": 0,
             "ticks": ""
            },
            "colorscale": [
             [
              0,
              "#0d0887"
             ],
             [
              0.1111111111111111,
              "#46039f"
             ],
             [
              0.2222222222222222,
              "#7201a8"
             ],
             [
              0.3333333333333333,
              "#9c179e"
             ],
             [
              0.4444444444444444,
              "#bd3786"
             ],
             [
              0.5555555555555556,
              "#d8576b"
             ],
             [
              0.6666666666666666,
              "#ed7953"
             ],
             [
              0.7777777777777778,
              "#fb9f3a"
             ],
             [
              0.8888888888888888,
              "#fdca26"
             ],
             [
              1,
              "#f0f921"
             ]
            ],
            "type": "heatmap"
           }
          ],
          "heatmapgl": [
           {
            "colorbar": {
             "outlinewidth": 0,
             "ticks": ""
            },
            "colorscale": [
             [
              0,
              "#0d0887"
             ],
             [
              0.1111111111111111,
              "#46039f"
             ],
             [
              0.2222222222222222,
              "#7201a8"
             ],
             [
              0.3333333333333333,
              "#9c179e"
             ],
             [
              0.4444444444444444,
              "#bd3786"
             ],
             [
              0.5555555555555556,
              "#d8576b"
             ],
             [
              0.6666666666666666,
              "#ed7953"
             ],
             [
              0.7777777777777778,
              "#fb9f3a"
             ],
             [
              0.8888888888888888,
              "#fdca26"
             ],
             [
              1,
              "#f0f921"
             ]
            ],
            "type": "heatmapgl"
           }
          ],
          "histogram": [
           {
            "marker": {
             "pattern": {
              "fillmode": "overlay",
              "size": 10,
              "solidity": 0.2
             }
            },
            "type": "histogram"
           }
          ],
          "histogram2d": [
           {
            "colorbar": {
             "outlinewidth": 0,
             "ticks": ""
            },
            "colorscale": [
             [
              0,
              "#0d0887"
             ],
             [
              0.1111111111111111,
              "#46039f"
             ],
             [
              0.2222222222222222,
              "#7201a8"
             ],
             [
              0.3333333333333333,
              "#9c179e"
             ],
             [
              0.4444444444444444,
              "#bd3786"
             ],
             [
              0.5555555555555556,
              "#d8576b"
             ],
             [
              0.6666666666666666,
              "#ed7953"
             ],
             [
              0.7777777777777778,
              "#fb9f3a"
             ],
             [
              0.8888888888888888,
              "#fdca26"
             ],
             [
              1,
              "#f0f921"
             ]
            ],
            "type": "histogram2d"
           }
          ],
          "histogram2dcontour": [
           {
            "colorbar": {
             "outlinewidth": 0,
             "ticks": ""
            },
            "colorscale": [
             [
              0,
              "#0d0887"
             ],
             [
              0.1111111111111111,
              "#46039f"
             ],
             [
              0.2222222222222222,
              "#7201a8"
             ],
             [
              0.3333333333333333,
              "#9c179e"
             ],
             [
              0.4444444444444444,
              "#bd3786"
             ],
             [
              0.5555555555555556,
              "#d8576b"
             ],
             [
              0.6666666666666666,
              "#ed7953"
             ],
             [
              0.7777777777777778,
              "#fb9f3a"
             ],
             [
              0.8888888888888888,
              "#fdca26"
             ],
             [
              1,
              "#f0f921"
             ]
            ],
            "type": "histogram2dcontour"
           }
          ],
          "mesh3d": [
           {
            "colorbar": {
             "outlinewidth": 0,
             "ticks": ""
            },
            "type": "mesh3d"
           }
          ],
          "parcoords": [
           {
            "line": {
             "colorbar": {
              "outlinewidth": 0,
              "ticks": ""
             }
            },
            "type": "parcoords"
           }
          ],
          "pie": [
           {
            "automargin": true,
            "type": "pie"
           }
          ],
          "scatter": [
           {
            "marker": {
             "colorbar": {
              "outlinewidth": 0,
              "ticks": ""
             }
            },
            "type": "scatter"
           }
          ],
          "scatter3d": [
           {
            "line": {
             "colorbar": {
              "outlinewidth": 0,
              "ticks": ""
             }
            },
            "marker": {
             "colorbar": {
              "outlinewidth": 0,
              "ticks": ""
             }
            },
            "type": "scatter3d"
           }
          ],
          "scattercarpet": [
           {
            "marker": {
             "colorbar": {
              "outlinewidth": 0,
              "ticks": ""
             }
            },
            "type": "scattercarpet"
           }
          ],
          "scattergeo": [
           {
            "marker": {
             "colorbar": {
              "outlinewidth": 0,
              "ticks": ""
             }
            },
            "type": "scattergeo"
           }
          ],
          "scattergl": [
           {
            "marker": {
             "colorbar": {
              "outlinewidth": 0,
              "ticks": ""
             }
            },
            "type": "scattergl"
           }
          ],
          "scattermapbox": [
           {
            "marker": {
             "colorbar": {
              "outlinewidth": 0,
              "ticks": ""
             }
            },
            "type": "scattermapbox"
           }
          ],
          "scatterpolar": [
           {
            "marker": {
             "colorbar": {
              "outlinewidth": 0,
              "ticks": ""
             }
            },
            "type": "scatterpolar"
           }
          ],
          "scatterpolargl": [
           {
            "marker": {
             "colorbar": {
              "outlinewidth": 0,
              "ticks": ""
             }
            },
            "type": "scatterpolargl"
           }
          ],
          "scatterternary": [
           {
            "marker": {
             "colorbar": {
              "outlinewidth": 0,
              "ticks": ""
             }
            },
            "type": "scatterternary"
           }
          ],
          "surface": [
           {
            "colorbar": {
             "outlinewidth": 0,
             "ticks": ""
            },
            "colorscale": [
             [
              0,
              "#0d0887"
             ],
             [
              0.1111111111111111,
              "#46039f"
             ],
             [
              0.2222222222222222,
              "#7201a8"
             ],
             [
              0.3333333333333333,
              "#9c179e"
             ],
             [
              0.4444444444444444,
              "#bd3786"
             ],
             [
              0.5555555555555556,
              "#d8576b"
             ],
             [
              0.6666666666666666,
              "#ed7953"
             ],
             [
              0.7777777777777778,
              "#fb9f3a"
             ],
             [
              0.8888888888888888,
              "#fdca26"
             ],
             [
              1,
              "#f0f921"
             ]
            ],
            "type": "surface"
           }
          ],
          "table": [
           {
            "cells": {
             "fill": {
              "color": "#EBF0F8"
             },
             "line": {
              "color": "white"
             }
            },
            "header": {
             "fill": {
              "color": "#C8D4E3"
             },
             "line": {
              "color": "white"
             }
            },
            "type": "table"
           }
          ]
         },
         "layout": {
          "annotationdefaults": {
           "arrowcolor": "#2a3f5f",
           "arrowhead": 0,
           "arrowwidth": 1
          },
          "autotypenumbers": "strict",
          "coloraxis": {
           "colorbar": {
            "outlinewidth": 0,
            "ticks": ""
           }
          },
          "colorscale": {
           "diverging": [
            [
             0,
             "#8e0152"
            ],
            [
             0.1,
             "#c51b7d"
            ],
            [
             0.2,
             "#de77ae"
            ],
            [
             0.3,
             "#f1b6da"
            ],
            [
             0.4,
             "#fde0ef"
            ],
            [
             0.5,
             "#f7f7f7"
            ],
            [
             0.6,
             "#e6f5d0"
            ],
            [
             0.7,
             "#b8e186"
            ],
            [
             0.8,
             "#7fbc41"
            ],
            [
             0.9,
             "#4d9221"
            ],
            [
             1,
             "#276419"
            ]
           ],
           "sequential": [
            [
             0,
             "#0d0887"
            ],
            [
             0.1111111111111111,
             "#46039f"
            ],
            [
             0.2222222222222222,
             "#7201a8"
            ],
            [
             0.3333333333333333,
             "#9c179e"
            ],
            [
             0.4444444444444444,
             "#bd3786"
            ],
            [
             0.5555555555555556,
             "#d8576b"
            ],
            [
             0.6666666666666666,
             "#ed7953"
            ],
            [
             0.7777777777777778,
             "#fb9f3a"
            ],
            [
             0.8888888888888888,
             "#fdca26"
            ],
            [
             1,
             "#f0f921"
            ]
           ],
           "sequentialminus": [
            [
             0,
             "#0d0887"
            ],
            [
             0.1111111111111111,
             "#46039f"
            ],
            [
             0.2222222222222222,
             "#7201a8"
            ],
            [
             0.3333333333333333,
             "#9c179e"
            ],
            [
             0.4444444444444444,
             "#bd3786"
            ],
            [
             0.5555555555555556,
             "#d8576b"
            ],
            [
             0.6666666666666666,
             "#ed7953"
            ],
            [
             0.7777777777777778,
             "#fb9f3a"
            ],
            [
             0.8888888888888888,
             "#fdca26"
            ],
            [
             1,
             "#f0f921"
            ]
           ]
          },
          "colorway": [
           "#636efa",
           "#EF553B",
           "#00cc96",
           "#ab63fa",
           "#FFA15A",
           "#19d3f3",
           "#FF6692",
           "#B6E880",
           "#FF97FF",
           "#FECB52"
          ],
          "font": {
           "color": "#2a3f5f"
          },
          "geo": {
           "bgcolor": "white",
           "lakecolor": "white",
           "landcolor": "#E5ECF6",
           "showlakes": true,
           "showland": true,
           "subunitcolor": "white"
          },
          "hoverlabel": {
           "align": "left"
          },
          "hovermode": "closest",
          "mapbox": {
           "style": "light"
          },
          "paper_bgcolor": "white",
          "plot_bgcolor": "#E5ECF6",
          "polar": {
           "angularaxis": {
            "gridcolor": "white",
            "linecolor": "white",
            "ticks": ""
           },
           "bgcolor": "#E5ECF6",
           "radialaxis": {
            "gridcolor": "white",
            "linecolor": "white",
            "ticks": ""
           }
          },
          "scene": {
           "xaxis": {
            "backgroundcolor": "#E5ECF6",
            "gridcolor": "white",
            "gridwidth": 2,
            "linecolor": "white",
            "showbackground": true,
            "ticks": "",
            "zerolinecolor": "white"
           },
           "yaxis": {
            "backgroundcolor": "#E5ECF6",
            "gridcolor": "white",
            "gridwidth": 2,
            "linecolor": "white",
            "showbackground": true,
            "ticks": "",
            "zerolinecolor": "white"
           },
           "zaxis": {
            "backgroundcolor": "#E5ECF6",
            "gridcolor": "white",
            "gridwidth": 2,
            "linecolor": "white",
            "showbackground": true,
            "ticks": "",
            "zerolinecolor": "white"
           }
          },
          "shapedefaults": {
           "line": {
            "color": "#2a3f5f"
           }
          },
          "ternary": {
           "aaxis": {
            "gridcolor": "white",
            "linecolor": "white",
            "ticks": ""
           },
           "baxis": {
            "gridcolor": "white",
            "linecolor": "white",
            "ticks": ""
           },
           "bgcolor": "#E5ECF6",
           "caxis": {
            "gridcolor": "white",
            "linecolor": "white",
            "ticks": ""
           }
          },
          "title": {
           "x": 0.05
          },
          "xaxis": {
           "automargin": true,
           "gridcolor": "white",
           "linecolor": "white",
           "ticks": "",
           "title": {
            "standoff": 15
           },
           "zerolinecolor": "white",
           "zerolinewidth": 2
          },
          "yaxis": {
           "automargin": true,
           "gridcolor": "white",
           "linecolor": "white",
           "ticks": "",
           "title": {
            "standoff": 15
           },
           "zerolinecolor": "white",
           "zerolinewidth": 2
          }
         }
        },
        "title": {
         "text": "Toename van schietincidenten in de VS in verloop van jaar"
        },
        "xaxis": {
         "tickmode": "array",
         "ticktext": [
          2013,
          2014,
          2015,
          2016,
          2017
         ],
         "tickvals": [
          2013,
          2014,
          2015,
          2016,
          2017
         ]
        }
       }
      },
      "text/html": [
       "<div>                            <div id=\"75d7c778-6008-4c3d-9002-4ed6c20398c4\" class=\"plotly-graph-div\" style=\"height:525px; width:100%;\"></div>            <script type=\"text/javascript\">                require([\"plotly\"], function(Plotly) {                    window.PLOTLYENV=window.PLOTLYENV || {};                                    if (document.getElementById(\"75d7c778-6008-4c3d-9002-4ed6c20398c4\")) {                    Plotly.newPlot(                        \"75d7c778-6008-4c3d-9002-4ed6c20398c4\",                        [{\"line\":{\"color\":\"#ff8800\"},\"mode\":\"lines\",\"x\":[2013,2014,2015,2016,2017],\"y\":[272,51016,53041,58266,60259],\"type\":\"scatter\"}],                        {\"template\":{\"data\":{\"bar\":[{\"error_x\":{\"color\":\"#2a3f5f\"},\"error_y\":{\"color\":\"#2a3f5f\"},\"marker\":{\"line\":{\"color\":\"#E5ECF6\",\"width\":0.5},\"pattern\":{\"fillmode\":\"overlay\",\"size\":10,\"solidity\":0.2}},\"type\":\"bar\"}],\"barpolar\":[{\"marker\":{\"line\":{\"color\":\"#E5ECF6\",\"width\":0.5},\"pattern\":{\"fillmode\":\"overlay\",\"size\":10,\"solidity\":0.2}},\"type\":\"barpolar\"}],\"carpet\":[{\"aaxis\":{\"endlinecolor\":\"#2a3f5f\",\"gridcolor\":\"white\",\"linecolor\":\"white\",\"minorgridcolor\":\"white\",\"startlinecolor\":\"#2a3f5f\"},\"baxis\":{\"endlinecolor\":\"#2a3f5f\",\"gridcolor\":\"white\",\"linecolor\":\"white\",\"minorgridcolor\":\"white\",\"startlinecolor\":\"#2a3f5f\"},\"type\":\"carpet\"}],\"choropleth\":[{\"colorbar\":{\"outlinewidth\":0,\"ticks\":\"\"},\"type\":\"choropleth\"}],\"contour\":[{\"colorbar\":{\"outlinewidth\":0,\"ticks\":\"\"},\"colorscale\":[[0.0,\"#0d0887\"],[0.1111111111111111,\"#46039f\"],[0.2222222222222222,\"#7201a8\"],[0.3333333333333333,\"#9c179e\"],[0.4444444444444444,\"#bd3786\"],[0.5555555555555556,\"#d8576b\"],[0.6666666666666666,\"#ed7953\"],[0.7777777777777778,\"#fb9f3a\"],[0.8888888888888888,\"#fdca26\"],[1.0,\"#f0f921\"]],\"type\":\"contour\"}],\"contourcarpet\":[{\"colorbar\":{\"outlinewidth\":0,\"ticks\":\"\"},\"type\":\"contourcarpet\"}],\"heatmap\":[{\"colorbar\":{\"outlinewidth\":0,\"ticks\":\"\"},\"colorscale\":[[0.0,\"#0d0887\"],[0.1111111111111111,\"#46039f\"],[0.2222222222222222,\"#7201a8\"],[0.3333333333333333,\"#9c179e\"],[0.4444444444444444,\"#bd3786\"],[0.5555555555555556,\"#d8576b\"],[0.6666666666666666,\"#ed7953\"],[0.7777777777777778,\"#fb9f3a\"],[0.8888888888888888,\"#fdca26\"],[1.0,\"#f0f921\"]],\"type\":\"heatmap\"}],\"heatmapgl\":[{\"colorbar\":{\"outlinewidth\":0,\"ticks\":\"\"},\"colorscale\":[[0.0,\"#0d0887\"],[0.1111111111111111,\"#46039f\"],[0.2222222222222222,\"#7201a8\"],[0.3333333333333333,\"#9c179e\"],[0.4444444444444444,\"#bd3786\"],[0.5555555555555556,\"#d8576b\"],[0.6666666666666666,\"#ed7953\"],[0.7777777777777778,\"#fb9f3a\"],[0.8888888888888888,\"#fdca26\"],[1.0,\"#f0f921\"]],\"type\":\"heatmapgl\"}],\"histogram\":[{\"marker\":{\"pattern\":{\"fillmode\":\"overlay\",\"size\":10,\"solidity\":0.2}},\"type\":\"histogram\"}],\"histogram2d\":[{\"colorbar\":{\"outlinewidth\":0,\"ticks\":\"\"},\"colorscale\":[[0.0,\"#0d0887\"],[0.1111111111111111,\"#46039f\"],[0.2222222222222222,\"#7201a8\"],[0.3333333333333333,\"#9c179e\"],[0.4444444444444444,\"#bd3786\"],[0.5555555555555556,\"#d8576b\"],[0.6666666666666666,\"#ed7953\"],[0.7777777777777778,\"#fb9f3a\"],[0.8888888888888888,\"#fdca26\"],[1.0,\"#f0f921\"]],\"type\":\"histogram2d\"}],\"histogram2dcontour\":[{\"colorbar\":{\"outlinewidth\":0,\"ticks\":\"\"},\"colorscale\":[[0.0,\"#0d0887\"],[0.1111111111111111,\"#46039f\"],[0.2222222222222222,\"#7201a8\"],[0.3333333333333333,\"#9c179e\"],[0.4444444444444444,\"#bd3786\"],[0.5555555555555556,\"#d8576b\"],[0.6666666666666666,\"#ed7953\"],[0.7777777777777778,\"#fb9f3a\"],[0.8888888888888888,\"#fdca26\"],[1.0,\"#f0f921\"]],\"type\":\"histogram2dcontour\"}],\"mesh3d\":[{\"colorbar\":{\"outlinewidth\":0,\"ticks\":\"\"},\"type\":\"mesh3d\"}],\"parcoords\":[{\"line\":{\"colorbar\":{\"outlinewidth\":0,\"ticks\":\"\"}},\"type\":\"parcoords\"}],\"pie\":[{\"automargin\":true,\"type\":\"pie\"}],\"scatter\":[{\"marker\":{\"colorbar\":{\"outlinewidth\":0,\"ticks\":\"\"}},\"type\":\"scatter\"}],\"scatter3d\":[{\"line\":{\"colorbar\":{\"outlinewidth\":0,\"ticks\":\"\"}},\"marker\":{\"colorbar\":{\"outlinewidth\":0,\"ticks\":\"\"}},\"type\":\"scatter3d\"}],\"scattercarpet\":[{\"marker\":{\"colorbar\":{\"outlinewidth\":0,\"ticks\":\"\"}},\"type\":\"scattercarpet\"}],\"scattergeo\":[{\"marker\":{\"colorbar\":{\"outlinewidth\":0,\"ticks\":\"\"}},\"type\":\"scattergeo\"}],\"scattergl\":[{\"marker\":{\"colorbar\":{\"outlinewidth\":0,\"ticks\":\"\"}},\"type\":\"scattergl\"}],\"scattermapbox\":[{\"marker\":{\"colorbar\":{\"outlinewidth\":0,\"ticks\":\"\"}},\"type\":\"scattermapbox\"}],\"scatterpolar\":[{\"marker\":{\"colorbar\":{\"outlinewidth\":0,\"ticks\":\"\"}},\"type\":\"scatterpolar\"}],\"scatterpolargl\":[{\"marker\":{\"colorbar\":{\"outlinewidth\":0,\"ticks\":\"\"}},\"type\":\"scatterpolargl\"}],\"scatterternary\":[{\"marker\":{\"colorbar\":{\"outlinewidth\":0,\"ticks\":\"\"}},\"type\":\"scatterternary\"}],\"surface\":[{\"colorbar\":{\"outlinewidth\":0,\"ticks\":\"\"},\"colorscale\":[[0.0,\"#0d0887\"],[0.1111111111111111,\"#46039f\"],[0.2222222222222222,\"#7201a8\"],[0.3333333333333333,\"#9c179e\"],[0.4444444444444444,\"#bd3786\"],[0.5555555555555556,\"#d8576b\"],[0.6666666666666666,\"#ed7953\"],[0.7777777777777778,\"#fb9f3a\"],[0.8888888888888888,\"#fdca26\"],[1.0,\"#f0f921\"]],\"type\":\"surface\"}],\"table\":[{\"cells\":{\"fill\":{\"color\":\"#EBF0F8\"},\"line\":{\"color\":\"white\"}},\"header\":{\"fill\":{\"color\":\"#C8D4E3\"},\"line\":{\"color\":\"white\"}},\"type\":\"table\"}]},\"layout\":{\"annotationdefaults\":{\"arrowcolor\":\"#2a3f5f\",\"arrowhead\":0,\"arrowwidth\":1},\"autotypenumbers\":\"strict\",\"coloraxis\":{\"colorbar\":{\"outlinewidth\":0,\"ticks\":\"\"}},\"colorscale\":{\"diverging\":[[0,\"#8e0152\"],[0.1,\"#c51b7d\"],[0.2,\"#de77ae\"],[0.3,\"#f1b6da\"],[0.4,\"#fde0ef\"],[0.5,\"#f7f7f7\"],[0.6,\"#e6f5d0\"],[0.7,\"#b8e186\"],[0.8,\"#7fbc41\"],[0.9,\"#4d9221\"],[1,\"#276419\"]],\"sequential\":[[0.0,\"#0d0887\"],[0.1111111111111111,\"#46039f\"],[0.2222222222222222,\"#7201a8\"],[0.3333333333333333,\"#9c179e\"],[0.4444444444444444,\"#bd3786\"],[0.5555555555555556,\"#d8576b\"],[0.6666666666666666,\"#ed7953\"],[0.7777777777777778,\"#fb9f3a\"],[0.8888888888888888,\"#fdca26\"],[1.0,\"#f0f921\"]],\"sequentialminus\":[[0.0,\"#0d0887\"],[0.1111111111111111,\"#46039f\"],[0.2222222222222222,\"#7201a8\"],[0.3333333333333333,\"#9c179e\"],[0.4444444444444444,\"#bd3786\"],[0.5555555555555556,\"#d8576b\"],[0.6666666666666666,\"#ed7953\"],[0.7777777777777778,\"#fb9f3a\"],[0.8888888888888888,\"#fdca26\"],[1.0,\"#f0f921\"]]},\"colorway\":[\"#636efa\",\"#EF553B\",\"#00cc96\",\"#ab63fa\",\"#FFA15A\",\"#19d3f3\",\"#FF6692\",\"#B6E880\",\"#FF97FF\",\"#FECB52\"],\"font\":{\"color\":\"#2a3f5f\"},\"geo\":{\"bgcolor\":\"white\",\"lakecolor\":\"white\",\"landcolor\":\"#E5ECF6\",\"showlakes\":true,\"showland\":true,\"subunitcolor\":\"white\"},\"hoverlabel\":{\"align\":\"left\"},\"hovermode\":\"closest\",\"mapbox\":{\"style\":\"light\"},\"paper_bgcolor\":\"white\",\"plot_bgcolor\":\"#E5ECF6\",\"polar\":{\"angularaxis\":{\"gridcolor\":\"white\",\"linecolor\":\"white\",\"ticks\":\"\"},\"bgcolor\":\"#E5ECF6\",\"radialaxis\":{\"gridcolor\":\"white\",\"linecolor\":\"white\",\"ticks\":\"\"}},\"scene\":{\"xaxis\":{\"backgroundcolor\":\"#E5ECF6\",\"gridcolor\":\"white\",\"gridwidth\":2,\"linecolor\":\"white\",\"showbackground\":true,\"ticks\":\"\",\"zerolinecolor\":\"white\"},\"yaxis\":{\"backgroundcolor\":\"#E5ECF6\",\"gridcolor\":\"white\",\"gridwidth\":2,\"linecolor\":\"white\",\"showbackground\":true,\"ticks\":\"\",\"zerolinecolor\":\"white\"},\"zaxis\":{\"backgroundcolor\":\"#E5ECF6\",\"gridcolor\":\"white\",\"gridwidth\":2,\"linecolor\":\"white\",\"showbackground\":true,\"ticks\":\"\",\"zerolinecolor\":\"white\"}},\"shapedefaults\":{\"line\":{\"color\":\"#2a3f5f\"}},\"ternary\":{\"aaxis\":{\"gridcolor\":\"white\",\"linecolor\":\"white\",\"ticks\":\"\"},\"baxis\":{\"gridcolor\":\"white\",\"linecolor\":\"white\",\"ticks\":\"\"},\"bgcolor\":\"#E5ECF6\",\"caxis\":{\"gridcolor\":\"white\",\"linecolor\":\"white\",\"ticks\":\"\"}},\"title\":{\"x\":0.05},\"xaxis\":{\"automargin\":true,\"gridcolor\":\"white\",\"linecolor\":\"white\",\"ticks\":\"\",\"title\":{\"standoff\":15},\"zerolinecolor\":\"white\",\"zerolinewidth\":2},\"yaxis\":{\"automargin\":true,\"gridcolor\":\"white\",\"linecolor\":\"white\",\"ticks\":\"\",\"title\":{\"standoff\":15},\"zerolinecolor\":\"white\",\"zerolinewidth\":2}}},\"xaxis\":{\"ticktext\":[2013,2014,2015,2016,2017],\"tickvals\":[2013,2014,2015,2016,2017],\"tickmode\":\"array\"},\"title\":{\"text\":\"Toename van schietincidenten in de VS in verloop van jaar\"}},                        {\"responsive\": true}                    ).then(function(){\n",
       "                            \n",
       "var gd = document.getElementById('75d7c778-6008-4c3d-9002-4ed6c20398c4');\n",
       "var x = new MutationObserver(function (mutations, observer) {{\n",
       "        var display = window.getComputedStyle(gd).display;\n",
       "        if (!display || display === 'none') {{\n",
       "            console.log([gd, 'removed!']);\n",
       "            Plotly.purge(gd);\n",
       "            observer.disconnect();\n",
       "        }}\n",
       "}});\n",
       "\n",
       "// Listen for the removal of the full notebook cells\n",
       "var notebookContainer = gd.closest('#notebook-container');\n",
       "if (notebookContainer) {{\n",
       "    x.observe(notebookContainer, {childList: true});\n",
       "}}\n",
       "\n",
       "// Listen for the clearing of the current output cell\n",
       "var outputEl = gd.closest('.output');\n",
       "if (outputEl) {{\n",
       "    x.observe(outputEl, {childList: true});\n",
       "}}\n",
       "\n",
       "                        })                };                });            </script>        </div>"
      ]
     },
     "metadata": {},
     "output_type": "display_data"
    }
   ],
   "source": [
    "gv['date'] = pd.to_datetime(gv['date'])\n",
    "\n",
    "gv13 = gv[gv['date'].dt.year == 2013]\n",
    "gv14 = gv[gv['date'].dt.year == 2014]\n",
    "gv15 = gv[gv['date'].dt.year == 2015]\n",
    "gv16 = gv[gv['date'].dt.year == 2016]\n",
    "gv17 = gv[gv['date'].dt.year == 2017]\n",
    "\n",
    "x = [2013, 2014, 2015, 2016, 2017]\n",
    "y = [len(gv13), len(gv14), len(gv15), len(gv16), len(gv17)]\n",
    "\n",
    "fig = go.Figure(data=go.Scatter(x=x, y=y, mode='lines', line=dict(color='#ff8800')))\n",
    "fig.update_xaxes(\n",
    "    ticktext=x,\n",
    "    tickvals=[x[i] for i in range(len(x))],\n",
    "    tickmode='array',\n",
    ")\n",
    "\n",
    "# fig.update_layout(xaxis_title='Jaar<br><br>Figuur 1. Toename van schietincidenten in de VS in verloop van jaar<br><br><sup>De y-as geeft het aantal schietincidenten weer per tienduizenden. De x-as geeft de periode 2013-2017 in jaren weer.<br>In de periode van 2013-2017 is het aantal schietincidenten in de VS toegenomen. Een uitschieter is het jaar 2013, <br>omdat de organisatie in dit jaar begon met het bijhouden van schietincidenten.</br></sup>', \n",
    "#                   yaxis_title='Aantal schietincidenten'\n",
    "# )\n",
    "\n",
    "fig.update_layout(title = 'Toename van schietincidenten in de VS in verloop van jaar')\n",
    "\n",
    "fig.show()"
   ]
  },
  {
   "cell_type": "markdown",
   "id": "77b377ed",
   "metadata": {},
   "source": [
    "> *Figuur 1. Toename van schietincidenten in de VS in verloop van jaar. De y-as geeft het aantal schietincidenten weer per tienduizenden. De x-as geeft de periode 2013-2017 in jaren weer. In de periode van 2013-2017 is het aantal schietincidenten in de VS toegenomen. Een uitschieter is het jaar 2013, omdat de organisatie in dit jaar begon met het bijhouden van schietincidenten*"
   ]
  },
  {
   "cell_type": "markdown",
   "id": "8cc80c06",
   "metadata": {},
   "source": [
    "Het aantal schietincidenten in de Verenigde Staten (VS) loopt in de loop van de jaren toe (Silva, 2021), zoals te zien is in figuur 1. De lijngrafiek laat zien dat in de jaren van 2013 tot en met 2017 het aantal schietincidenten is toegenomen. Recente schietincidenten die veel impact hebben gehad op de bevolking zijn bijvoorbeeld El Paso (2019), Parkland (2018) en Las Vegas (2017) (Schildkraut & Turanovic, 2022). De stijging van het aantal schietincidenten zorgt voor veel onrust over het wapengebruik in de VS. Hedendaagse plekken, zoals scholen, supermarkten en werkplaatsen moeten door schietincidenten maatregelen nemen tegen het wapengeweld. Het is van belang dat de impact van het wapengeweld wordt besproken, zodat het wapengeweld niet alleen de aandacht trekt van het publiek, maar ook van beleidsmakers en wetenschappers."
   ]
  },
  {
   "cell_type": "code",
   "execution_count": 5,
   "id": "8bf1b17f",
   "metadata": {
    "scrolled": false,
    "tags": [
     "hide-input"
    ]
   },
   "outputs": [
    {
     "data": {
      "application/vnd.plotly.v1+json": {
       "config": {
        "plotlyServerURL": "https://plot.ly"
       },
       "data": [
        {
         "line": {
          "color": "green"
         },
         "mode": "lines",
         "type": "scatter",
         "x": [
          2013,
          2014,
          2015,
          2016,
          2017
         ],
         "y": [
          47118.8,
          47753.24,
          48428.56,
          48600.36,
          49141.88
         ]
        }
       ],
       "layout": {
        "template": {
         "data": {
          "bar": [
           {
            "error_x": {
             "color": "#2a3f5f"
            },
            "error_y": {
             "color": "#2a3f5f"
            },
            "marker": {
             "line": {
              "color": "#E5ECF6",
              "width": 0.5
             },
             "pattern": {
              "fillmode": "overlay",
              "size": 10,
              "solidity": 0.2
             }
            },
            "type": "bar"
           }
          ],
          "barpolar": [
           {
            "marker": {
             "line": {
              "color": "#E5ECF6",
              "width": 0.5
             },
             "pattern": {
              "fillmode": "overlay",
              "size": 10,
              "solidity": 0.2
             }
            },
            "type": "barpolar"
           }
          ],
          "carpet": [
           {
            "aaxis": {
             "endlinecolor": "#2a3f5f",
             "gridcolor": "white",
             "linecolor": "white",
             "minorgridcolor": "white",
             "startlinecolor": "#2a3f5f"
            },
            "baxis": {
             "endlinecolor": "#2a3f5f",
             "gridcolor": "white",
             "linecolor": "white",
             "minorgridcolor": "white",
             "startlinecolor": "#2a3f5f"
            },
            "type": "carpet"
           }
          ],
          "choropleth": [
           {
            "colorbar": {
             "outlinewidth": 0,
             "ticks": ""
            },
            "type": "choropleth"
           }
          ],
          "contour": [
           {
            "colorbar": {
             "outlinewidth": 0,
             "ticks": ""
            },
            "colorscale": [
             [
              0,
              "#0d0887"
             ],
             [
              0.1111111111111111,
              "#46039f"
             ],
             [
              0.2222222222222222,
              "#7201a8"
             ],
             [
              0.3333333333333333,
              "#9c179e"
             ],
             [
              0.4444444444444444,
              "#bd3786"
             ],
             [
              0.5555555555555556,
              "#d8576b"
             ],
             [
              0.6666666666666666,
              "#ed7953"
             ],
             [
              0.7777777777777778,
              "#fb9f3a"
             ],
             [
              0.8888888888888888,
              "#fdca26"
             ],
             [
              1,
              "#f0f921"
             ]
            ],
            "type": "contour"
           }
          ],
          "contourcarpet": [
           {
            "colorbar": {
             "outlinewidth": 0,
             "ticks": ""
            },
            "type": "contourcarpet"
           }
          ],
          "heatmap": [
           {
            "colorbar": {
             "outlinewidth": 0,
             "ticks": ""
            },
            "colorscale": [
             [
              0,
              "#0d0887"
             ],
             [
              0.1111111111111111,
              "#46039f"
             ],
             [
              0.2222222222222222,
              "#7201a8"
             ],
             [
              0.3333333333333333,
              "#9c179e"
             ],
             [
              0.4444444444444444,
              "#bd3786"
             ],
             [
              0.5555555555555556,
              "#d8576b"
             ],
             [
              0.6666666666666666,
              "#ed7953"
             ],
             [
              0.7777777777777778,
              "#fb9f3a"
             ],
             [
              0.8888888888888888,
              "#fdca26"
             ],
             [
              1,
              "#f0f921"
             ]
            ],
            "type": "heatmap"
           }
          ],
          "heatmapgl": [
           {
            "colorbar": {
             "outlinewidth": 0,
             "ticks": ""
            },
            "colorscale": [
             [
              0,
              "#0d0887"
             ],
             [
              0.1111111111111111,
              "#46039f"
             ],
             [
              0.2222222222222222,
              "#7201a8"
             ],
             [
              0.3333333333333333,
              "#9c179e"
             ],
             [
              0.4444444444444444,
              "#bd3786"
             ],
             [
              0.5555555555555556,
              "#d8576b"
             ],
             [
              0.6666666666666666,
              "#ed7953"
             ],
             [
              0.7777777777777778,
              "#fb9f3a"
             ],
             [
              0.8888888888888888,
              "#fdca26"
             ],
             [
              1,
              "#f0f921"
             ]
            ],
            "type": "heatmapgl"
           }
          ],
          "histogram": [
           {
            "marker": {
             "pattern": {
              "fillmode": "overlay",
              "size": 10,
              "solidity": 0.2
             }
            },
            "type": "histogram"
           }
          ],
          "histogram2d": [
           {
            "colorbar": {
             "outlinewidth": 0,
             "ticks": ""
            },
            "colorscale": [
             [
              0,
              "#0d0887"
             ],
             [
              0.1111111111111111,
              "#46039f"
             ],
             [
              0.2222222222222222,
              "#7201a8"
             ],
             [
              0.3333333333333333,
              "#9c179e"
             ],
             [
              0.4444444444444444,
              "#bd3786"
             ],
             [
              0.5555555555555556,
              "#d8576b"
             ],
             [
              0.6666666666666666,
              "#ed7953"
             ],
             [
              0.7777777777777778,
              "#fb9f3a"
             ],
             [
              0.8888888888888888,
              "#fdca26"
             ],
             [
              1,
              "#f0f921"
             ]
            ],
            "type": "histogram2d"
           }
          ],
          "histogram2dcontour": [
           {
            "colorbar": {
             "outlinewidth": 0,
             "ticks": ""
            },
            "colorscale": [
             [
              0,
              "#0d0887"
             ],
             [
              0.1111111111111111,
              "#46039f"
             ],
             [
              0.2222222222222222,
              "#7201a8"
             ],
             [
              0.3333333333333333,
              "#9c179e"
             ],
             [
              0.4444444444444444,
              "#bd3786"
             ],
             [
              0.5555555555555556,
              "#d8576b"
             ],
             [
              0.6666666666666666,
              "#ed7953"
             ],
             [
              0.7777777777777778,
              "#fb9f3a"
             ],
             [
              0.8888888888888888,
              "#fdca26"
             ],
             [
              1,
              "#f0f921"
             ]
            ],
            "type": "histogram2dcontour"
           }
          ],
          "mesh3d": [
           {
            "colorbar": {
             "outlinewidth": 0,
             "ticks": ""
            },
            "type": "mesh3d"
           }
          ],
          "parcoords": [
           {
            "line": {
             "colorbar": {
              "outlinewidth": 0,
              "ticks": ""
             }
            },
            "type": "parcoords"
           }
          ],
          "pie": [
           {
            "automargin": true,
            "type": "pie"
           }
          ],
          "scatter": [
           {
            "marker": {
             "colorbar": {
              "outlinewidth": 0,
              "ticks": ""
             }
            },
            "type": "scatter"
           }
          ],
          "scatter3d": [
           {
            "line": {
             "colorbar": {
              "outlinewidth": 0,
              "ticks": ""
             }
            },
            "marker": {
             "colorbar": {
              "outlinewidth": 0,
              "ticks": ""
             }
            },
            "type": "scatter3d"
           }
          ],
          "scattercarpet": [
           {
            "marker": {
             "colorbar": {
              "outlinewidth": 0,
              "ticks": ""
             }
            },
            "type": "scattercarpet"
           }
          ],
          "scattergeo": [
           {
            "marker": {
             "colorbar": {
              "outlinewidth": 0,
              "ticks": ""
             }
            },
            "type": "scattergeo"
           }
          ],
          "scattergl": [
           {
            "marker": {
             "colorbar": {
              "outlinewidth": 0,
              "ticks": ""
             }
            },
            "type": "scattergl"
           }
          ],
          "scattermapbox": [
           {
            "marker": {
             "colorbar": {
              "outlinewidth": 0,
              "ticks": ""
             }
            },
            "type": "scattermapbox"
           }
          ],
          "scatterpolar": [
           {
            "marker": {
             "colorbar": {
              "outlinewidth": 0,
              "ticks": ""
             }
            },
            "type": "scatterpolar"
           }
          ],
          "scatterpolargl": [
           {
            "marker": {
             "colorbar": {
              "outlinewidth": 0,
              "ticks": ""
             }
            },
            "type": "scatterpolargl"
           }
          ],
          "scatterternary": [
           {
            "marker": {
             "colorbar": {
              "outlinewidth": 0,
              "ticks": ""
             }
            },
            "type": "scatterternary"
           }
          ],
          "surface": [
           {
            "colorbar": {
             "outlinewidth": 0,
             "ticks": ""
            },
            "colorscale": [
             [
              0,
              "#0d0887"
             ],
             [
              0.1111111111111111,
              "#46039f"
             ],
             [
              0.2222222222222222,
              "#7201a8"
             ],
             [
              0.3333333333333333,
              "#9c179e"
             ],
             [
              0.4444444444444444,
              "#bd3786"
             ],
             [
              0.5555555555555556,
              "#d8576b"
             ],
             [
              0.6666666666666666,
              "#ed7953"
             ],
             [
              0.7777777777777778,
              "#fb9f3a"
             ],
             [
              0.8888888888888888,
              "#fdca26"
             ],
             [
              1,
              "#f0f921"
             ]
            ],
            "type": "surface"
           }
          ],
          "table": [
           {
            "cells": {
             "fill": {
              "color": "#EBF0F8"
             },
             "line": {
              "color": "white"
             }
            },
            "header": {
             "fill": {
              "color": "#C8D4E3"
             },
             "line": {
              "color": "white"
             }
            },
            "type": "table"
           }
          ]
         },
         "layout": {
          "annotationdefaults": {
           "arrowcolor": "#2a3f5f",
           "arrowhead": 0,
           "arrowwidth": 1
          },
          "autotypenumbers": "strict",
          "coloraxis": {
           "colorbar": {
            "outlinewidth": 0,
            "ticks": ""
           }
          },
          "colorscale": {
           "diverging": [
            [
             0,
             "#8e0152"
            ],
            [
             0.1,
             "#c51b7d"
            ],
            [
             0.2,
             "#de77ae"
            ],
            [
             0.3,
             "#f1b6da"
            ],
            [
             0.4,
             "#fde0ef"
            ],
            [
             0.5,
             "#f7f7f7"
            ],
            [
             0.6,
             "#e6f5d0"
            ],
            [
             0.7,
             "#b8e186"
            ],
            [
             0.8,
             "#7fbc41"
            ],
            [
             0.9,
             "#4d9221"
            ],
            [
             1,
             "#276419"
            ]
           ],
           "sequential": [
            [
             0,
             "#0d0887"
            ],
            [
             0.1111111111111111,
             "#46039f"
            ],
            [
             0.2222222222222222,
             "#7201a8"
            ],
            [
             0.3333333333333333,
             "#9c179e"
            ],
            [
             0.4444444444444444,
             "#bd3786"
            ],
            [
             0.5555555555555556,
             "#d8576b"
            ],
            [
             0.6666666666666666,
             "#ed7953"
            ],
            [
             0.7777777777777778,
             "#fb9f3a"
            ],
            [
             0.8888888888888888,
             "#fdca26"
            ],
            [
             1,
             "#f0f921"
            ]
           ],
           "sequentialminus": [
            [
             0,
             "#0d0887"
            ],
            [
             0.1111111111111111,
             "#46039f"
            ],
            [
             0.2222222222222222,
             "#7201a8"
            ],
            [
             0.3333333333333333,
             "#9c179e"
            ],
            [
             0.4444444444444444,
             "#bd3786"
            ],
            [
             0.5555555555555556,
             "#d8576b"
            ],
            [
             0.6666666666666666,
             "#ed7953"
            ],
            [
             0.7777777777777778,
             "#fb9f3a"
            ],
            [
             0.8888888888888888,
             "#fdca26"
            ],
            [
             1,
             "#f0f921"
            ]
           ]
          },
          "colorway": [
           "#636efa",
           "#EF553B",
           "#00cc96",
           "#ab63fa",
           "#FFA15A",
           "#19d3f3",
           "#FF6692",
           "#B6E880",
           "#FF97FF",
           "#FECB52"
          ],
          "font": {
           "color": "#2a3f5f"
          },
          "geo": {
           "bgcolor": "white",
           "lakecolor": "white",
           "landcolor": "#E5ECF6",
           "showlakes": true,
           "showland": true,
           "subunitcolor": "white"
          },
          "hoverlabel": {
           "align": "left"
          },
          "hovermode": "closest",
          "mapbox": {
           "style": "light"
          },
          "paper_bgcolor": "white",
          "plot_bgcolor": "#E5ECF6",
          "polar": {
           "angularaxis": {
            "gridcolor": "white",
            "linecolor": "white",
            "ticks": ""
           },
           "bgcolor": "#E5ECF6",
           "radialaxis": {
            "gridcolor": "white",
            "linecolor": "white",
            "ticks": ""
           }
          },
          "scene": {
           "xaxis": {
            "backgroundcolor": "#E5ECF6",
            "gridcolor": "white",
            "gridwidth": 2,
            "linecolor": "white",
            "showbackground": true,
            "ticks": "",
            "zerolinecolor": "white"
           },
           "yaxis": {
            "backgroundcolor": "#E5ECF6",
            "gridcolor": "white",
            "gridwidth": 2,
            "linecolor": "white",
            "showbackground": true,
            "ticks": "",
            "zerolinecolor": "white"
           },
           "zaxis": {
            "backgroundcolor": "#E5ECF6",
            "gridcolor": "white",
            "gridwidth": 2,
            "linecolor": "white",
            "showbackground": true,
            "ticks": "",
            "zerolinecolor": "white"
           }
          },
          "shapedefaults": {
           "line": {
            "color": "#2a3f5f"
           }
          },
          "ternary": {
           "aaxis": {
            "gridcolor": "white",
            "linecolor": "white",
            "ticks": ""
           },
           "baxis": {
            "gridcolor": "white",
            "linecolor": "white",
            "ticks": ""
           },
           "bgcolor": "#E5ECF6",
           "caxis": {
            "gridcolor": "white",
            "linecolor": "white",
            "ticks": ""
           }
          },
          "title": {
           "x": 0.05
          },
          "xaxis": {
           "automargin": true,
           "gridcolor": "white",
           "linecolor": "white",
           "ticks": "",
           "title": {
            "standoff": 15
           },
           "zerolinecolor": "white",
           "zerolinewidth": 2
          },
          "yaxis": {
           "automargin": true,
           "gridcolor": "white",
           "linecolor": "white",
           "ticks": "",
           "title": {
            "standoff": 15
           },
           "zerolinecolor": "white",
           "zerolinewidth": 2
          }
         }
        },
        "title": {
         "text": "Toename van BBP per hoofd in de VS in verloop van jaar"
        },
        "xaxis": {
         "tickmode": "array",
         "ticktext": [
          2013,
          2014,
          2015,
          2016,
          2017
         ],
         "tickvals": [
          2013,
          2014,
          2015,
          2016,
          2017
         ]
        }
       }
      },
      "text/html": [
       "<div>                            <div id=\"b7c39a52-cd21-4204-815f-137dca087c32\" class=\"plotly-graph-div\" style=\"height:525px; width:100%;\"></div>            <script type=\"text/javascript\">                require([\"plotly\"], function(Plotly) {                    window.PLOTLYENV=window.PLOTLYENV || {};                                    if (document.getElementById(\"b7c39a52-cd21-4204-815f-137dca087c32\")) {                    Plotly.newPlot(                        \"b7c39a52-cd21-4204-815f-137dca087c32\",                        [{\"line\":{\"color\":\"green\"},\"mode\":\"lines\",\"x\":[2013,2014,2015,2016,2017],\"y\":[47118.8,47753.24,48428.56,48600.36,49141.88],\"type\":\"scatter\"}],                        {\"template\":{\"data\":{\"bar\":[{\"error_x\":{\"color\":\"#2a3f5f\"},\"error_y\":{\"color\":\"#2a3f5f\"},\"marker\":{\"line\":{\"color\":\"#E5ECF6\",\"width\":0.5},\"pattern\":{\"fillmode\":\"overlay\",\"size\":10,\"solidity\":0.2}},\"type\":\"bar\"}],\"barpolar\":[{\"marker\":{\"line\":{\"color\":\"#E5ECF6\",\"width\":0.5},\"pattern\":{\"fillmode\":\"overlay\",\"size\":10,\"solidity\":0.2}},\"type\":\"barpolar\"}],\"carpet\":[{\"aaxis\":{\"endlinecolor\":\"#2a3f5f\",\"gridcolor\":\"white\",\"linecolor\":\"white\",\"minorgridcolor\":\"white\",\"startlinecolor\":\"#2a3f5f\"},\"baxis\":{\"endlinecolor\":\"#2a3f5f\",\"gridcolor\":\"white\",\"linecolor\":\"white\",\"minorgridcolor\":\"white\",\"startlinecolor\":\"#2a3f5f\"},\"type\":\"carpet\"}],\"choropleth\":[{\"colorbar\":{\"outlinewidth\":0,\"ticks\":\"\"},\"type\":\"choropleth\"}],\"contour\":[{\"colorbar\":{\"outlinewidth\":0,\"ticks\":\"\"},\"colorscale\":[[0.0,\"#0d0887\"],[0.1111111111111111,\"#46039f\"],[0.2222222222222222,\"#7201a8\"],[0.3333333333333333,\"#9c179e\"],[0.4444444444444444,\"#bd3786\"],[0.5555555555555556,\"#d8576b\"],[0.6666666666666666,\"#ed7953\"],[0.7777777777777778,\"#fb9f3a\"],[0.8888888888888888,\"#fdca26\"],[1.0,\"#f0f921\"]],\"type\":\"contour\"}],\"contourcarpet\":[{\"colorbar\":{\"outlinewidth\":0,\"ticks\":\"\"},\"type\":\"contourcarpet\"}],\"heatmap\":[{\"colorbar\":{\"outlinewidth\":0,\"ticks\":\"\"},\"colorscale\":[[0.0,\"#0d0887\"],[0.1111111111111111,\"#46039f\"],[0.2222222222222222,\"#7201a8\"],[0.3333333333333333,\"#9c179e\"],[0.4444444444444444,\"#bd3786\"],[0.5555555555555556,\"#d8576b\"],[0.6666666666666666,\"#ed7953\"],[0.7777777777777778,\"#fb9f3a\"],[0.8888888888888888,\"#fdca26\"],[1.0,\"#f0f921\"]],\"type\":\"heatmap\"}],\"heatmapgl\":[{\"colorbar\":{\"outlinewidth\":0,\"ticks\":\"\"},\"colorscale\":[[0.0,\"#0d0887\"],[0.1111111111111111,\"#46039f\"],[0.2222222222222222,\"#7201a8\"],[0.3333333333333333,\"#9c179e\"],[0.4444444444444444,\"#bd3786\"],[0.5555555555555556,\"#d8576b\"],[0.6666666666666666,\"#ed7953\"],[0.7777777777777778,\"#fb9f3a\"],[0.8888888888888888,\"#fdca26\"],[1.0,\"#f0f921\"]],\"type\":\"heatmapgl\"}],\"histogram\":[{\"marker\":{\"pattern\":{\"fillmode\":\"overlay\",\"size\":10,\"solidity\":0.2}},\"type\":\"histogram\"}],\"histogram2d\":[{\"colorbar\":{\"outlinewidth\":0,\"ticks\":\"\"},\"colorscale\":[[0.0,\"#0d0887\"],[0.1111111111111111,\"#46039f\"],[0.2222222222222222,\"#7201a8\"],[0.3333333333333333,\"#9c179e\"],[0.4444444444444444,\"#bd3786\"],[0.5555555555555556,\"#d8576b\"],[0.6666666666666666,\"#ed7953\"],[0.7777777777777778,\"#fb9f3a\"],[0.8888888888888888,\"#fdca26\"],[1.0,\"#f0f921\"]],\"type\":\"histogram2d\"}],\"histogram2dcontour\":[{\"colorbar\":{\"outlinewidth\":0,\"ticks\":\"\"},\"colorscale\":[[0.0,\"#0d0887\"],[0.1111111111111111,\"#46039f\"],[0.2222222222222222,\"#7201a8\"],[0.3333333333333333,\"#9c179e\"],[0.4444444444444444,\"#bd3786\"],[0.5555555555555556,\"#d8576b\"],[0.6666666666666666,\"#ed7953\"],[0.7777777777777778,\"#fb9f3a\"],[0.8888888888888888,\"#fdca26\"],[1.0,\"#f0f921\"]],\"type\":\"histogram2dcontour\"}],\"mesh3d\":[{\"colorbar\":{\"outlinewidth\":0,\"ticks\":\"\"},\"type\":\"mesh3d\"}],\"parcoords\":[{\"line\":{\"colorbar\":{\"outlinewidth\":0,\"ticks\":\"\"}},\"type\":\"parcoords\"}],\"pie\":[{\"automargin\":true,\"type\":\"pie\"}],\"scatter\":[{\"marker\":{\"colorbar\":{\"outlinewidth\":0,\"ticks\":\"\"}},\"type\":\"scatter\"}],\"scatter3d\":[{\"line\":{\"colorbar\":{\"outlinewidth\":0,\"ticks\":\"\"}},\"marker\":{\"colorbar\":{\"outlinewidth\":0,\"ticks\":\"\"}},\"type\":\"scatter3d\"}],\"scattercarpet\":[{\"marker\":{\"colorbar\":{\"outlinewidth\":0,\"ticks\":\"\"}},\"type\":\"scattercarpet\"}],\"scattergeo\":[{\"marker\":{\"colorbar\":{\"outlinewidth\":0,\"ticks\":\"\"}},\"type\":\"scattergeo\"}],\"scattergl\":[{\"marker\":{\"colorbar\":{\"outlinewidth\":0,\"ticks\":\"\"}},\"type\":\"scattergl\"}],\"scattermapbox\":[{\"marker\":{\"colorbar\":{\"outlinewidth\":0,\"ticks\":\"\"}},\"type\":\"scattermapbox\"}],\"scatterpolar\":[{\"marker\":{\"colorbar\":{\"outlinewidth\":0,\"ticks\":\"\"}},\"type\":\"scatterpolar\"}],\"scatterpolargl\":[{\"marker\":{\"colorbar\":{\"outlinewidth\":0,\"ticks\":\"\"}},\"type\":\"scatterpolargl\"}],\"scatterternary\":[{\"marker\":{\"colorbar\":{\"outlinewidth\":0,\"ticks\":\"\"}},\"type\":\"scatterternary\"}],\"surface\":[{\"colorbar\":{\"outlinewidth\":0,\"ticks\":\"\"},\"colorscale\":[[0.0,\"#0d0887\"],[0.1111111111111111,\"#46039f\"],[0.2222222222222222,\"#7201a8\"],[0.3333333333333333,\"#9c179e\"],[0.4444444444444444,\"#bd3786\"],[0.5555555555555556,\"#d8576b\"],[0.6666666666666666,\"#ed7953\"],[0.7777777777777778,\"#fb9f3a\"],[0.8888888888888888,\"#fdca26\"],[1.0,\"#f0f921\"]],\"type\":\"surface\"}],\"table\":[{\"cells\":{\"fill\":{\"color\":\"#EBF0F8\"},\"line\":{\"color\":\"white\"}},\"header\":{\"fill\":{\"color\":\"#C8D4E3\"},\"line\":{\"color\":\"white\"}},\"type\":\"table\"}]},\"layout\":{\"annotationdefaults\":{\"arrowcolor\":\"#2a3f5f\",\"arrowhead\":0,\"arrowwidth\":1},\"autotypenumbers\":\"strict\",\"coloraxis\":{\"colorbar\":{\"outlinewidth\":0,\"ticks\":\"\"}},\"colorscale\":{\"diverging\":[[0,\"#8e0152\"],[0.1,\"#c51b7d\"],[0.2,\"#de77ae\"],[0.3,\"#f1b6da\"],[0.4,\"#fde0ef\"],[0.5,\"#f7f7f7\"],[0.6,\"#e6f5d0\"],[0.7,\"#b8e186\"],[0.8,\"#7fbc41\"],[0.9,\"#4d9221\"],[1,\"#276419\"]],\"sequential\":[[0.0,\"#0d0887\"],[0.1111111111111111,\"#46039f\"],[0.2222222222222222,\"#7201a8\"],[0.3333333333333333,\"#9c179e\"],[0.4444444444444444,\"#bd3786\"],[0.5555555555555556,\"#d8576b\"],[0.6666666666666666,\"#ed7953\"],[0.7777777777777778,\"#fb9f3a\"],[0.8888888888888888,\"#fdca26\"],[1.0,\"#f0f921\"]],\"sequentialminus\":[[0.0,\"#0d0887\"],[0.1111111111111111,\"#46039f\"],[0.2222222222222222,\"#7201a8\"],[0.3333333333333333,\"#9c179e\"],[0.4444444444444444,\"#bd3786\"],[0.5555555555555556,\"#d8576b\"],[0.6666666666666666,\"#ed7953\"],[0.7777777777777778,\"#fb9f3a\"],[0.8888888888888888,\"#fdca26\"],[1.0,\"#f0f921\"]]},\"colorway\":[\"#636efa\",\"#EF553B\",\"#00cc96\",\"#ab63fa\",\"#FFA15A\",\"#19d3f3\",\"#FF6692\",\"#B6E880\",\"#FF97FF\",\"#FECB52\"],\"font\":{\"color\":\"#2a3f5f\"},\"geo\":{\"bgcolor\":\"white\",\"lakecolor\":\"white\",\"landcolor\":\"#E5ECF6\",\"showlakes\":true,\"showland\":true,\"subunitcolor\":\"white\"},\"hoverlabel\":{\"align\":\"left\"},\"hovermode\":\"closest\",\"mapbox\":{\"style\":\"light\"},\"paper_bgcolor\":\"white\",\"plot_bgcolor\":\"#E5ECF6\",\"polar\":{\"angularaxis\":{\"gridcolor\":\"white\",\"linecolor\":\"white\",\"ticks\":\"\"},\"bgcolor\":\"#E5ECF6\",\"radialaxis\":{\"gridcolor\":\"white\",\"linecolor\":\"white\",\"ticks\":\"\"}},\"scene\":{\"xaxis\":{\"backgroundcolor\":\"#E5ECF6\",\"gridcolor\":\"white\",\"gridwidth\":2,\"linecolor\":\"white\",\"showbackground\":true,\"ticks\":\"\",\"zerolinecolor\":\"white\"},\"yaxis\":{\"backgroundcolor\":\"#E5ECF6\",\"gridcolor\":\"white\",\"gridwidth\":2,\"linecolor\":\"white\",\"showbackground\":true,\"ticks\":\"\",\"zerolinecolor\":\"white\"},\"zaxis\":{\"backgroundcolor\":\"#E5ECF6\",\"gridcolor\":\"white\",\"gridwidth\":2,\"linecolor\":\"white\",\"showbackground\":true,\"ticks\":\"\",\"zerolinecolor\":\"white\"}},\"shapedefaults\":{\"line\":{\"color\":\"#2a3f5f\"}},\"ternary\":{\"aaxis\":{\"gridcolor\":\"white\",\"linecolor\":\"white\",\"ticks\":\"\"},\"baxis\":{\"gridcolor\":\"white\",\"linecolor\":\"white\",\"ticks\":\"\"},\"bgcolor\":\"#E5ECF6\",\"caxis\":{\"gridcolor\":\"white\",\"linecolor\":\"white\",\"ticks\":\"\"}},\"title\":{\"x\":0.05},\"xaxis\":{\"automargin\":true,\"gridcolor\":\"white\",\"linecolor\":\"white\",\"ticks\":\"\",\"title\":{\"standoff\":15},\"zerolinecolor\":\"white\",\"zerolinewidth\":2},\"yaxis\":{\"automargin\":true,\"gridcolor\":\"white\",\"linecolor\":\"white\",\"ticks\":\"\",\"title\":{\"standoff\":15},\"zerolinecolor\":\"white\",\"zerolinewidth\":2}}},\"xaxis\":{\"ticktext\":[2013,2014,2015,2016,2017],\"tickvals\":[2013,2014,2015,2016,2017],\"tickmode\":\"array\"},\"title\":{\"text\":\"Toename van BBP per hoofd in de VS in verloop van jaar\"}},                        {\"responsive\": true}                    ).then(function(){\n",
       "                            \n",
       "var gd = document.getElementById('b7c39a52-cd21-4204-815f-137dca087c32');\n",
       "var x = new MutationObserver(function (mutations, observer) {{\n",
       "        var display = window.getComputedStyle(gd).display;\n",
       "        if (!display || display === 'none') {{\n",
       "            console.log([gd, 'removed!']);\n",
       "            Plotly.purge(gd);\n",
       "            observer.disconnect();\n",
       "        }}\n",
       "}});\n",
       "\n",
       "// Listen for the removal of the full notebook cells\n",
       "var notebookContainer = gd.closest('#notebook-container');\n",
       "if (notebookContainer) {{\n",
       "    x.observe(notebookContainer, {childList: true});\n",
       "}}\n",
       "\n",
       "// Listen for the clearing of the current output cell\n",
       "var outputEl = gd.closest('.output');\n",
       "if (outputEl) {{\n",
       "    x.observe(outputEl, {childList: true});\n",
       "}}\n",
       "\n",
       "                        })                };                });            </script>        </div>"
      ]
     },
     "metadata": {},
     "output_type": "display_data"
    }
   ],
   "source": [
    "gdp13 = gdp['2013']\n",
    "gdp14 = gdp['2014']\n",
    "gdp15 = gdp['2015']\n",
    "gdp16 = gdp['2016']\n",
    "gdp17 = gdp['2017']\n",
    "\n",
    "x = [2013, 2014, 2015, 2016, 2017]\n",
    "y = [sum(gdp13)/len(gdp), sum(gdp14)/len(gdp), sum(gdp15)/len(gdp), sum(gdp16)/len(gdp), sum(gdp17)/len(gdp)]\n",
    "\n",
    "fig = go.Figure(data=go.Scatter(x=x, y=y, mode='lines', line=dict(color='green')))\n",
    "fig.update_xaxes(\n",
    "    ticktext=x,\n",
    "    tickvals=[x[i] for i in range(len(x))],\n",
    "    tickmode='array',\n",
    ")\n",
    "\n",
    "# fig.update_layout(xaxis_title='Jaar<br><br>Figuur 2. Toename van BBP per hoofd in de VS in verloop van jaar<br><br><sup>De y-as geeft het BBP per hoofd van de bevolking in de VS weer in dollars, weergegeven in de tienduizenden, <br>met intervallen van 500 dollar tussen de bedragen waar de jaartallen toe behoren. De x-as geeft de periode 2013-2017 in jaren weer.<br>In de periode van 2013-2017 is het BBP per hoofd in de VS toegenomen.</br></sup>', \n",
    "#                   yaxis_title='BBP per hoofd'\n",
    "# )\n",
    "\n",
    "fig.update_layout(title = 'Toename van BBP per hoofd in de VS in verloop van jaar')\n",
    "\n",
    "fig.show()"
   ]
  },
  {
   "cell_type": "markdown",
   "id": "ea575630",
   "metadata": {},
   "source": [
    "> *Figuur 2. Toename van BBP per hoofd in de VS in verloop van jaar. De y-as geeft het BBP per hoofd van de bevolking in de VS weer in dollars, weergegeven in de tienduizenden, met intervallen van 500 dollar tussen de bedragen waar de jaartallen toe behoren. De x-as geeft de periode 2013-2017 in jaren weer. In de periode van 2013-2017 is het BBP per hoofd in de VS toegenomen.*"
   ]
  },
  {
   "cell_type": "markdown",
   "id": "a92018b1",
   "metadata": {},
   "source": [
    "Het bruto binnenlands product (BBP) wordt gebruikt als een standaard meetinstrument voor de toegevoegde waarde van alle in een land geproduceerde goederen en diensten tijdens een bepaalde periode, waar meestal een jaar voor wordt aangenomen. Het BBP dient als een maatstaaf voor economische activiteit (Gross domestic product (GDP), 2017). Het BBP per hoofd is het landelijk BBP gedeeld door het aantal inwoners van een land (Bruto binnenlands product - Wat is dat? | SumUp Facturen, z.d.). Net zoals het aantal schietincidenten, neemt ook het BBP per hoofd van de bevolking in de VS toe (zie figuur 2). De lijngrafiek laat zien dat in de jaren van 2013 tot en met 2017 het BBP per hoofd is toegenomen."
   ]
  },
  {
   "cell_type": "markdown",
   "id": "2c5dc909",
   "metadata": {},
   "source": [
    "De VS heeft zowel een van de hoogste BBP per hoofd ter wereld (Koop, 2023) als een van de hoogste aantallen schietincidenten ter wereld (World Population Review, z.d.). Mogelijke verbanden tussen deze twee factoren zullen verder worden besproken aan de hand van de volgende perspectieven:\n",
    "\n",
    "- Het aantal schietincidenten heeft invloed op het BBP in de Verenigde Staten\n",
    "- Het aantal schietincidenten heeft geen invloed op het BBP in de Verenigde Staten"
   ]
  },
  {
   "cell_type": "markdown",
   "id": "fbabe40c",
   "metadata": {},
   "source": [
    "## Dataset en preprocessing\n",
    "\n",
    "### Dataset 1: Gun Violence Data\n",
    "\n",
    "Dataset bron (URL): https://github.com/jamesqo/gun-violence-data\n",
    "\n",
    "De eerste dataset bevat ongeveer 260.000 schietincidenten van januari 2013 tot maart 2018. Elk schietincident is aangevuld met extra informatie, zoals de datum van het schietincident, in welke staat in de VS het heeft plaatsgevonden, het aantal gewonden en het aantal doden.\n",
    "\n",
    "### Dataset 2: GDP per capita in US states\n",
    "\n",
    "Dataset bron (URL): https://www.kaggle.com/datasets/solorzano/gdp-per-capita-in-us-states?resource=download\n",
    "\n",
    "De tweede dataset toont het BBP per hoofd van alle staten en meerdere gebieden van de Verenigde Staten. De dataset bevat informatie over alle staten van 2013 tot en met 2017. Er staat dus van vijf verschillende jaren het BBP per hoofd aangegeven van elke staat in de Verenigde Staten.\n",
    "\n",
    "### Dataset 3: US gun production\n",
    "\n",
    "Dataset bron (URL): https://docs.google.com/spreadsheets/d/e/2PACX-1vShiwPP36HrjUyPztuIhoYjR3Xd3uhlQivMC3wPSNq1UCjVbj2wsPZIISqOtFQ0NbVVwwKBzyrDNuCz/pubhtml#\n",
    "\n",
    "De derde dataset geeft weer hoeveel wapens er jaarlijks worden geproduceerd, geïmporteerd en geëxporteerd. Daarnaast wordt aanvullende informatie over de wapens verstrekt, zoals hoeveel van een bepaald wapen wordt geproduceerd, geïmporteerd en geëxporteerd. Bovendien wordt het aantal doden door wapens weergegeven, het aantal moorden door wapens etc.\n",
    "\n",
    "### Dataset 4: Government expenditure (% of GDP)\n",
    "\n",
    "Dataset bron (URL): https://www.imf.org/external/datamapper/exp@FPP/USA/FRA/JPN/GBR/SWE/ESP/ITA/ZAF/IND\n",
    "\n",
    "De vierde dataset toont het jaarlijkse percentage van het BBP wat wordt uitgegeven. De percentages zijn van verschillende landen genoteerd, waaronder van de VS. \n",
    "\n",
    "### Preprocessing\n",
    "\n",
    "#### Dataset 1: Gun Violence Data\n",
    "\n",
    "Om dataset 1 op te schonen, was het van belang om te filteren per jaar. Dataset 2 bevat namelijk informatie tot en met 2017, waar dataset 1 door gaat tot en met 2018. Om dit op te lossen hebben we eerst een aparte dataframe voor de relevante jaren gemaakt. Door deze samen te voegen ontstond de nieuwe, opgeschoonde dataset. \n",
    "\n",
    "Om dit te kunnen doen moest eerst de 'date' kolom uit dataset 1 worden geconverteerd naar een datetime format, zodat het mogelijk werd om te filteren op deze velden. Hierna werden aparte dataframes aangemaakt voor de jaren 2013 tot en met 2017. Daarna werden de dataframes via 'concat' samengevoegd, zodat alle dataframes onder elkaar staan op chronologische volgorde. Daarnaast zijn ook alle incidenten van de District of Columbia verwijderd, aangezien dit geen staat is.\n",
    "\n",
    "#### Dataset 2: GDP per capita in US states\n",
    "\n",
    "Voor het opschonen van dataset 2 was het belangrijk om irrelevante kolommen en rijen te verwijderen. Zo was de kolom 'Fips' irrelevant voor ons onderzoek. Daarnaast bevatte de dataset informatie over bepaalde regio's in de VS die niet kwalificeerden als staat of voorkomen in onze andere dataset. Deze hebben we via 'drop' verwijderd.\n",
    "\n",
    "#### Dataset 3: US gun production\n",
    "\n",
    "Bij het opschonen van dataset 3 wordt vooral gekeken naar het toevoegen van een kolom: het totaal aantal geweren in circulatie in de VS per jaar. Om dit te bereiken moest een berekening gemaakt worden: het totaal geproduceerd - het totaal geëxporteerd + het totaal geïmporteerd. Voor deze berekeningen moesten de punten en komma's die in de velden stonden om duizentallen aan te geven, worden weggehaald. Pas dan kon de berekening plaatsvinden.\n",
    "\n",
    "Verder werden de rijen met informatie over de jaren 1899 - 1945 verwijderd. Dit was een samenvoeging van 46 jaar en was daardoor een enorme uitschieter ten opzichte van de overige jaren. Verder werd de kolom met jaren als de index van de dataset gemaakt.\n",
    "\n",
    "#### Dataset 4: Government expenditure (% of GDP)\n",
    "\n",
    "Om dataset 4 op te schonen moest er vrij weinig gebeuren. Alles wat werd aangepast, was de index (deze werd eerst omgezet naar Country, maar zal later veranderen) en het omdraaien van de DataFrame, zodat de jaren als rijen stonden. Dit omdat de DataFrame dan dezelfde structuur zou hebben als de eerder gevonden datasets.\n",
    "\n",
    "Na het omdraaien van de DataFrame werd de index veranderd van de landen naar de jaren. Zo had deze dataframe (op lengte na) dezelfde index als de dataset hiervoor."
   ]
  },
  {
   "cell_type": "markdown",
   "id": "d17d0ed8",
   "metadata": {},
   "source": [
    "## Eerste perspectief\n",
    "\n",
    "Het eerste perspectief luidt als volgt: het aantal schietincidenten heeft invloed op het BBP in de Verenigde Staten. Ter ondersteuning van dit perspectief worden de volgende twee argumenten als onderbouwing gebruikt.\n",
    "\n",
    "### Eerste argument van eerste perspectief"
   ]
  },
  {
   "cell_type": "markdown",
   "id": "c43bdd9d",
   "metadata": {},
   "source": [
    "Volgens een artikel van Mascia (2023) leidt een verhoogde wapenproductie tot een verhoogd aantal schietincidenten. Hiermee komen meer uitgaven in het BBP voort. Volgens een rapport van Everytown for Gun Safety Support Fund (2022) kost het wapengeweld in de VS 557 miljard dollar per jaar, wat 2,6% van het BBP zou innemen."
   ]
  },
  {
   "cell_type": "code",
   "execution_count": null,
   "id": "d4e9f1da",
   "metadata": {
    "tags": [
     "hide-input"
    ]
   },
   "outputs": [],
   "source": [
    "# voorbereidingen\n",
    "gv14counts = [gv14['state'].value_counts()[x] for x in sorted(gv14['state'].unique())]\n",
    "gv15counts = [gv15['state'].value_counts()[x] for x in sorted(gv15['state'].unique())]\n",
    "gv16counts = [gv16['state'].value_counts()[x] for x in sorted(gv16['state'].unique())]\n",
    "gv17counts = [gv17['state'].value_counts()[x] for x in sorted(gv17['state'].unique())]\n",
    "\n",
    "gv_per_year = pd.DataFrame({'GVI 14': gv14counts, 'GVI 15': gv15counts, 'GVI 16': gv16counts, 'GVI 17': gv17counts}, index=gdp['Area'])\n",
    "\n",
    "imfdf = imfdf.set_index('Unnamed: 0')\n",
    "gc = gc.set_index('Year')\n",
    "\n",
    "# berekeningen exacte uitgaven \n",
    "s14 = (imfdf['United States'][2014] / 100) * gdp['2014'].sum()\n",
    "s15 = (imfdf['United States'][2015] / 100) * gdp['2015'].sum()\n",
    "s16 = (imfdf['United States'][2016] / 100) * gdp['2016'].sum()\n",
    "s17 = (imfdf['United States'][2017] / 100) * gdp['2017'].sum()\n",
    "\n",
    "# berekeningen uitgaven t.o.v. 2014\n",
    "s15p = ((s15 - s14) / s14)\n",
    "s16p = ((s16 - s14) / s14)\n",
    "s17p = ((s17 - s14) / s14)\n",
    "\n",
    "# berekeningen aantal schietincidenten\n",
    "g14 = int(gv_per_year.sum()['GVI 14'])\n",
    "g15 = int(gv_per_year.sum()['GVI 15'])\n",
    "g16 = gv_per_year.sum()['GVI 16']\n",
    "g17 = gv_per_year.sum()['GVI 17']\n",
    "\n",
    "# berekeningen incidenten t.o.v. 2014\n",
    "g15p = ((g15 - g14) / g14)\n",
    "g16p = ((g16 - g14) / g14)\n",
    "g17p = ((g17 - g14) / g14)\n",
    "\n",
    "# aanmaak figuur en x-as\n",
    "fig = go.Figure()\n",
    "years = ['2015', '2016', '2017']\n",
    "\n",
    "# toevoegen staven\n",
    "fig.add_trace(\n",
    "    go.Bar(\n",
    "        name='Aantal schietincidenten',\n",
    "        x=years,\n",
    "        y=pd.Series([g15p, g16p, g17p], index=years),\n",
    "        marker=dict(color='#ff8800')\n",
    "    ))\n",
    "\n",
    "fig.add_trace(\n",
    "    go.Bar(\n",
    "        name='Uitgave BBP',\n",
    "        x=years,\n",
    "        y=pd.Series([s15p, s16p, s17p], index=years),\n",
    "        marker=dict(color='green')\n",
    "    ))\n",
    "\n",
    "# update layout\n",
    "fig.update_layout(barmode='group',\n",
    "                    width=1000,\n",
    "                    xaxis=go.layout.XAxis(type='category'),\n",
    "                    yaxis=go.layout.YAxis(tickformat=',.0%'),\n",
    "                    xaxis_title='Year',\n",
    "                    yaxis_title='Percentage',\n",
    "                    title='Verandering van uitgave BBP en aantal schietincidenten t.o.v. 2014',\n",
    "                    legend=dict(\n",
    "                    orientation='h',\n",
    "                    yanchor='top',\n",
    "                    y=1.1)\n",
    "                 )\n",
    "\n",
    "fig.show()"
   ]
  },
  {
   "cell_type": "markdown",
   "id": "aa3efff0",
   "metadata": {},
   "source": [
    "> *Figuur 3. Verandering van uitgave BBP en aantal schietincidenten t.o.v. 2014. De y-as geeft de percentuele toename in uitgave BBP en het aantal schietincidenten t.o.v 2014 weer. De x-as geeft de periode 2015-2017 in jaren weer. T.o.v 2014 wordt er een stijging in zowel uitgave BBP als aantal schietincidenten waargenomen.*"
   ]
  },
  {
   "cell_type": "markdown",
   "id": "31ef2ae2",
   "metadata": {},
   "source": [
    "In figuur 3 is te zien dat er een stijging aanwezig is in zowel het aantal schietincidenten als in het uitgegeven BBP. Dit betekent dat wanneer het aantal schietincidenten toeneemt, er meer van het BBP wordt uitgegeven, en het BBP daalt. Dit argument sluit aan bij het perspectief dat het aantal schietincidenten invloed heeft op het BBP in de VS."
   ]
  },
  {
   "cell_type": "code",
   "execution_count": null,
   "id": "343e1908",
   "metadata": {
    "scrolled": false,
    "tags": [
     "hide-input"
    ]
   },
   "outputs": [],
   "source": [
    "# converteer jaren naar floats en maak figuur\n",
    "years = gc.index.tolist()\n",
    "fyears = [float(x) for x in years]\n",
    "fig = go.Figure()\n",
    "\n",
    "# teken originele lijnen\n",
    "fig.add_trace(go.Scatter(x=years, y=(gc['Total Circulated'] / gc['Total Circulated'].sum()) * 10,\n",
    "                         mode='markers + lines', name='Aantal geweren in VS als percentage van geheel',\n",
    "                         opacity=.5, line_color='orange'))\n",
    "fig.add_trace(go.Scatter(x=years, y=(imfdf['United States'].astype(float) / 100).loc[1946:2021],\n",
    "                         mode='markers + lines', name='Percentage van uitgegeven BBP door VS',\n",
    "                         opacity=.5, line_color='lime'))\n",
    "\n",
    "# bereken en voeg trendlijnen toe\n",
    "trendline1 = np.polyfit(fyears, list((gc['Total Circulated'] / gc['Total Circulated'].sum()) * 10), 1)\n",
    "trendline2 = np.polyfit(fyears, (imfdf['United States'].astype(float) / 100).loc[1946:2021], 1)\n",
    "\n",
    "fig.add_trace(go.Scatter(x=fyears, y=np.polyval(trendline1, fyears),\n",
    "                         mode='lines', name='Trendlijn van aantal geweren in VS als percentage van geheel',\n",
    "                         line_color='red'))\n",
    "fig.add_trace(go.Scatter(x=fyears, y=np.polyval(trendline2, fyears),\n",
    "                         mode='lines', name='Trendlijn van percentage van uitgegeven BBP door VS',\n",
    "                         line_color='green'))\n",
    "\n",
    "# update layout\n",
    "fig.update_layout(width=1000,\n",
    "                    xaxis=go.layout.XAxis(type='category'),\n",
    "                    yaxis=go.layout.YAxis(tickformat=',.0%'),\n",
    "                    xaxis_title='Jaar',\n",
    "                    yaxis_title='Percentage',\n",
    "                    title='Aantal geweren tegen percentage van uitgegeven BBP in VS',\n",
    "                    legend=dict(\n",
    "                    orientation='h',\n",
    "                    yanchor='top',\n",
    "                    y=1.1)\n",
    "                 )\n",
    "\n",
    "# voeg range slider toe\n",
    "fig.update_layout(xaxis=dict(rangeslider=dict(visible=True), type=\"date\"))\n",
    "\n",
    "# toon plot\n",
    "fig.show()"
   ]
  },
  {
   "cell_type": "markdown",
   "id": "113c7c3e",
   "metadata": {},
   "source": [
    "> *Figuur 4. Aantal geweren tegen percentage van uitgegeven BBP in VS. De y-as geeft de percentuele toename in uitgegeven BBP en aantal geweren weer, respectievelijk als percentage van het totale BBP en het totale aantal geweren. De x-as geeft de periode 1946-2021 in jaren weer. Er wordt een stijging in zowel het aantal geweren als in het uitgegeven BBP waargenomen.*"
   ]
  },
  {
   "cell_type": "markdown",
   "id": "1672bc50",
   "metadata": {},
   "source": [
    "In figuur 4 is te zien dat door de jaren heen er een toename is in zowel het aantal geweren in de VS als in het uitgegeven BBP, wat betekent dat de toename van het aantal geweren gepaard gaat met een toename in het aantal schietincidenten en daarmee gepaard gaat met een daling van het BBP. Dit argument sluit aan bij het perspectief dat het aantal schietincidenten invloed heeft op het BBP in de VS."
   ]
  },
  {
   "cell_type": "markdown",
   "id": "8ee8e23d",
   "metadata": {},
   "source": [
    "### Tweede argument van eerste perspectief"
   ]
  },
  {
   "cell_type": "code",
   "execution_count": null,
   "id": "02184125",
   "metadata": {
    "tags": [
     "hide-input"
    ]
   },
   "outputs": [],
   "source": [
    "x = [2014, 2015, 2016]\n",
    "y1 = gv_per_year.loc['Alaska'][0:3].values / gv_per_year.loc['Alaska'].sum()\n",
    "y2 = gdp.set_index('Area').drop(columns=['Unnamed: 0']).loc['Alaska'][1:4].values\n",
    "y3 = gv_per_year.loc['North Dakota'][0:3].values / gv_per_year.loc['North Dakota'].sum()\n",
    "y4 = gdp.set_index('Area').drop(columns=['Unnamed: 0']).loc['North Dakota'][1:4].values\n",
    "y5 = gv_per_year.loc['Vermont'][0:3].values / gv_per_year.loc['Vermont'].sum()\n",
    "y6 = gdp.set_index('Area').drop(columns=['Unnamed: 0']).loc['Vermont'][1:4].values\n",
    "\n",
    "# maak subplot met twee y-assen\n",
    "fig = make_subplots(specs=[[{\"secondary_y\": True}]])\n",
    "\n",
    "# voeg traces voor y1 en y2 toe\n",
    "fig.add_trace(go.Scatter(x=x, y=y1, name=\"Incidenten Alaska\", visible=True, line=dict(color='orange')), secondary_y=False)\n",
    "fig.add_trace(go.Scatter(x=x, y=y2, name=\"BBP Alaska\", visible=True, line=dict(color='green')), secondary_y=True)\n",
    "\n",
    "fig.add_trace(go.Scatter(x=x, y=y3, name=\"Incidenten North Dakota\", visible=False, line=dict(color='orange')), secondary_y=False)\n",
    "fig.add_trace(go.Scatter(x=x, y=y4, name=\"BBP Delaware\", visible=False, line=dict(color='green')), secondary_y=True)\n",
    "\n",
    "fig.add_trace(go.Scatter(x=x, y=y5, name=\"Incidenten Vermont\", visible=False, line=dict(color='orange')), secondary_y=False)\n",
    "fig.add_trace(go.Scatter(x=x, y=y6, name=\"BBP Vermont\", visible=False, line=dict(color='green')), secondary_y=True)\n",
    "\n",
    "# layout\n",
    "fig.update_layout(\n",
    "    title=\"BBP en schietincidenten in: \",\n",
    "    xaxis_title=\"Jaar\",\n",
    "    yaxis_title=\"Incidenten (%)\",\n",
    "    yaxis2_title=\"BBP\",\n",
    "    legend=dict(x=0, y=1, traceorder=\"normal\"),\n",
    "    margin=dict(l=50, r=50, t=80, b=50),\n",
    ")\n",
    "\n",
    "# dropdown menu\n",
    "dropdown_buttons = [\n",
    "    {\n",
    "        \"label\": \"Alaska\",\n",
    "        \"method\": \"update\",\n",
    "        \"args\": [{\"visible\": [True, True, False, False, False, False]}, {\"yaxis\": {\"title\": \"Incidenten (%)\", 'tickformat': ',.0%'}}],\n",
    "    },\n",
    "    {\n",
    "        \"label\": \"North Dakota\",\n",
    "        \"method\": \"update\",\n",
    "        \"args\": [{\"visible\": [False, False, True, True, False, False]}, {\"yaxis\": {\"title\": \"Incidenten (%)\", 'tickformat': ',.0%'}}],\n",
    "    },\n",
    "    {\n",
    "        \"label\": \"Vermont\",\n",
    "        \"method\": \"update\",\n",
    "        \"args\": [{\"visible\": [False, False, False, False, True, True]}, {\"yaxis\": {\"title\": \"Incidenten (%)\", 'tickformat': ',.0%'}}],\n",
    "    },\n",
    "]\n",
    "\n",
    "fig.update_layout(yaxis=go.layout.YAxis(tickformat=',.0%'),\n",
    "    updatemenus=[\n",
    "        dict(\n",
    "            active=0,\n",
    "            buttons=dropdown_buttons,\n",
    "            x=.4,\n",
    "            y=1.15,\n",
    "            xanchor=\"right\",\n",
    "            yanchor=\"top\",\n",
    "        )\n",
    "    ]\n",
    ")\n",
    "\n",
    "fig.update_xaxes(\n",
    "    ticktext=x,\n",
    "    tickvals=[x[i] for i in range(len(x))],\n",
    "    tickmode='array',\n",
    ")\n",
    "\n",
    "fig.show()"
   ]
  },
  {
   "cell_type": "markdown",
   "id": "5046b57f",
   "metadata": {},
   "source": [
    "> *Figuur 5. BBP en schietincidenten in staten uit VS. De linker y-as geeft het percentage aantal schietincidenten in een bepaald jaar van het totale aantal schietincidenten weer. De rechter y-as geeft het BBP per hoofd van de bevolking in de VS weer in dollars, weergegeven in de duizenden. De x-as geeft de periode 2014-2016 in jaren weer. In deze periode neemt het aantal schietincidenten toe en het BBP af of andersom, een negatieve relatie tussen beide variabelen.*"
   ]
  },
  {
   "cell_type": "markdown",
   "id": "952abe0e",
   "metadata": {},
   "source": [
    "In figuur 5 is het aantal schietincidenten en het BBP voor de staten Alaska, Delaware en Vermont te zien. Voor deze staten geldt dat wanneer het aantal schietincidenten toeneemt, het BBP daalt of andersom. Hierbij is een negatieve relatie tussen beide variabelen te zien. Dit argument sluit aan bij het perspectief dat het aantal schietincidenten invloed heeft op het BBP in de VS."
   ]
  },
  {
   "cell_type": "markdown",
   "id": "3917067f",
   "metadata": {},
   "source": [
    "## Tweede perspectief\n",
    "\n",
    "Het tweede perspectief luidt als volgt: het aantal schietincidenten heeft geen invloed op het BBP in de Verenigde Staten. Ter ondersteuning van dit perspectief worden de volgende twee argumenten als onderbouwing gebruikt.\n",
    "\n",
    "### Eerste argument van tweede perspectief"
   ]
  },
  {
   "cell_type": "code",
   "execution_count": null,
   "id": "3f70823f",
   "metadata": {
    "scrolled": false,
    "tags": [
     "hide-input"
    ]
   },
   "outputs": [],
   "source": [
    "# groepeer bbp dataset op staat\n",
    "gdp_grouped = gdp.groupby('Area').sum()\n",
    "gdp_grouped = gdp_grouped.drop(['Unnamed: 0'], axis=1)\n",
    "\n",
    "# dictionary met de staten en het totaal aantal schietincidenten en gemiddelde bbp\n",
    "gv_per_state = {x: gv['state'].value_counts()[x] for x in gv['state'].unique()}\n",
    "gdp_per_state = {x: gdp_grouped.loc[x].sum() / 5 for x in gdp_grouped.index}\n",
    "\n",
    "# sorteer de dictonaries op alfabetische volgorde van de staten\n",
    "gv_ps_keys = list(gv_per_state.keys())\n",
    "gv_ps_keys.sort()\n",
    "gv_per_state = {i: gv_per_state[i] for i in gv_ps_keys}\n",
    "\n",
    "# maak een lijst van de waarden en bereken het totaal\n",
    "gdp_total = list(list(gdp_per_state.values()))\n",
    "gv_total = list(gv_per_state.values())\n",
    "\n",
    "# maak dataframe van net berekende gegevens\n",
    "gdp_gv_per_state = pd.DataFrame({'GDP per state (2013 - 2017)': gdp_total, 'Amount of gun violence incidents per state (2013 - 2017)': gv_total}, index=gv_ps_keys)\n",
    "\n",
    "# maak plot\n",
    "plt.figure()\n",
    "\n",
    "# bereken min, max en gemiddelde voor het aantal incidenten en BBP\n",
    "mingv = min(gdp_gv_per_state['Amount of gun violence incidents per state (2013 - 2017)'])\n",
    "maxgv = max(gdp_gv_per_state['Amount of gun violence incidents per state (2013 - 2017)'])\n",
    "mingdp = min(gdp_gv_per_state['GDP per state (2013 - 2017)'])\n",
    "maxgdp = max(gdp_gv_per_state['GDP per state (2013 - 2017)'])\n",
    "avggv = gdp_gv_per_state['Amount of gun violence incidents per state (2013 - 2017)'].mean()\n",
    "avggdp = gdp_gv_per_state['GDP per state (2013 - 2017)'].mean()\n",
    "\n",
    "# maak kwadranten en kleur specifiek kwadrant in via het maken van een rechthoek\n",
    "ax = plt.axes()\n",
    "ax.add_patch(matplotlib.patches.Rectangle((avggv,mingdp), maxgv-avggv, avggdp-mingdp, color='#FF3A4E'))\n",
    "plt.plot([avggv, avggv], [0, maxgdp], linewidth=2, color='black')\n",
    "plt.plot([0, maxgv], [avggdp, avggdp], linewidth=2, color='black')\n",
    "\n",
    "# plot gegevens\n",
    "x = gdp_gv_per_state['Amount of gun violence incidents per state (2013 - 2017)']\n",
    "y = gdp_gv_per_state['GDP per state (2013 - 2017)']\n",
    "plt.scatter(x, y)\n",
    "\n",
    "# bepaal schaal\n",
    "plt.xlim((mingv,maxgv))\n",
    "plt.ylim((mingdp,maxgdp))\n",
    "\n",
    "# labels x- en y-as en titel\n",
    "plt.xlabel('Aantal schietincidenten per staat (2013 - 2017)')\n",
    "plt.ylabel('Gemiddelde BBP per hoofd per staat (2013 - 2017)')\n",
    "\n",
    "# ax.text(0.5, -0.2, \"Figuur 3. Aantal schietincidenten tegenover BBP per hoofd\", transform=ax.transAxes, ha='center')\n",
    "# ax.text(0.5, -0.3, \"De y-as geeft het gemiddelde BBP per hoofd per staat over de periode 2013-2017\", transform=ax.transAxes, ha='center')\n",
    "# ax.text(0.5, -0.35, \"weer in de de tienduizenden. De x-as geeft het aantal schietincidenten per staat over\", transform=ax.transAxes, ha='center')\n",
    "# ax.text(0.5, -0.4, \"de periode 2013-2017 weer in de duizenden. De zwarte horizontale lijn geeft het gemiddelde\", transform=ax.transAxes, ha='center')\n",
    "# ax.text(0.5, -0.45, \"van de y-as weer en de zwarte verticale lijn geeft het gemiddelde van de x-as weer.\", transform=ax.transAxes, ha='center')\n",
    "# ax.text(0.5, -0.5, \"Het rode gemarkeerde kwadrant geeft een ondergemiddeld BBP weer,\", transform=ax.transAxes, ha='center')\n",
    "# ax.text(0.5, -0.55, \"tegenover een bovengemiddeld aantal schietincidenten.\", transform=ax.transAxes, ha='center')\n",
    "# ax.text(0.5, -0.6, \"Een laag BBP leidt niet direct leidt tot meer schietincidenten.\", transform=ax.transAxes, ha='center')\n",
    "\n",
    "plt.title('Aantal schietincidenten tegenover BBP per hoofd')\n",
    "\n",
    "plt.gcf().set_size_inches((7, 5))\n",
    "\n",
    "plt.show()"
   ]
  },
  {
   "cell_type": "markdown",
   "id": "5bd85b36",
   "metadata": {},
   "source": [
    "> *Figuur 3. Aantal schietincidenten tegenover BBP per hoofd. De y-as geeft het gemiddelde BBP per hoofd per staat over de periode 2013-2017 weer in de tienduizenden. De x-as geeft het aantal schietincidenten per staat over de periode 2013-2017 weer in de duizenden. De zwarte horizontale lijn geeft het gemiddelde van de y-as weer en de zwarte verticale lijn geeft het gemiddelde van de x-as weer. Het rode gemarkeerde kwadrant geeft een ondergemiddeld BBP weer, tegenover een bovengemiddeld aantal schietincidenten. Een laag BBP leidt niet direct tot meer schietincidenten.*"
   ]
  },
  {
   "cell_type": "markdown",
   "id": "d713c992",
   "metadata": {},
   "source": [
    "Figuur 3 toont de relatie tussen het aantal schietincidenten en het gemiddelde BBP van alle staten. De zwarte lijnen tonen de gemiddeldes van deze variabelen. Volgens een artikel van Pearlstein (2018) zou een lagere BBP betekenen dat een staat een hoger aantal schietincidenten zou hebben. Deze situatie wordt met het rode kwadrant in het figuur weergegeven. Het figuur tekent echter een andere situatie: weinig staten vallen in dit gemarkeerde kwadrant. Dit betekent dat wanneer er meer schietincidenten in een staat plaatsvinden, dit niet meteen betekent dat een staat respectievelijk een ondergemiddeld BBP heeft. Dit argument sluit aan bij het perspectief dat het aantal schietincidenten geen invloed heeft op het BBP in de VS."
   ]
  },
  {
   "cell_type": "markdown",
   "id": "41e39b84",
   "metadata": {},
   "source": [
    "### Tweede argument van tweede perspectief"
   ]
  },
  {
   "cell_type": "code",
   "execution_count": null,
   "id": "b36d7e54",
   "metadata": {
    "tags": [
     "hide-input"
    ]
   },
   "outputs": [],
   "source": [
    "gv['date'] = pd.to_datetime(gv['date'])\n",
    "\n",
    "gdp_gv_per_state['code'] = [\n",
    "    'AL', 'AK', 'AZ', 'AR', 'CA', 'CO', 'CT', 'DE', 'FL', 'GA',\n",
    "    'HI', 'ID', 'IL', 'IN', 'IA', 'KS', 'KY', 'LA', 'ME', 'MD',\n",
    "    'MA', 'MI', 'MN', 'MS', 'MO', 'MT', 'NE', 'NV', 'NH', 'NJ',\n",
    "    'NM', 'NY', 'NC', 'ND', 'OH', 'OK', 'OR', 'PA', 'RI', 'SC',\n",
    "    'SD', 'TN', 'TX', 'UT', 'VT', 'VA', 'WA', 'WV', 'WI', 'WY'\n",
    "]\n",
    "\n",
    "#gdp['gv15'] = gv15counts\n",
    "\n",
    "fig1 = go.Figure(data=go.Choropleth(\n",
    "    locations=gdp_gv_per_state['code'],\n",
    "    z = gdp_gv_per_state['GDP per state (2013 - 2017)'],\n",
    "    locationmode = 'USA-states',\n",
    "    colorscale = 'Greens',\n",
    "    colorbar_title = \"Gemiddelde BBP\",\n",
    "))\n",
    "\n",
    "fig1.update_layout(\n",
    "    title_text = 'Gemiddelde BBP (2013 - 2017)',\n",
    "    geo_scope='usa',\n",
    ")\n",
    "\n",
    "fig1.show()"
   ]
  },
  {
   "cell_type": "markdown",
   "id": "0ca57192",
   "metadata": {},
   "source": [
    "> *Figuur 5. Choropleth-kaart van BBP-waarden (2013-2017). Per staat wordt het BBP weergegeven. Hoe hoger het BBP van de desbetreffende staat is, hoe donkerder de kleur van de staat wordt in een kleurenpallet, lopend van lichtgeel naar donkerrood.*"
   ]
  },
  {
   "cell_type": "code",
   "execution_count": null,
   "id": "2750b89b",
   "metadata": {
    "tags": [
     "hide-input"
    ]
   },
   "outputs": [],
   "source": [
    "fig2 = go.Figure(data=go.Choropleth(\n",
    "    locations=gdp_gv_per_state['code'],\n",
    "    z = gdp_gv_per_state['Amount of gun violence incidents per state (2013 - 2017)'],\n",
    "    locationmode = 'USA-states',\n",
    "    colorscale = 'Oranges',\n",
    "    colorbar_title = \"Aantal Schietincidenten\",\n",
    "))\n",
    "\n",
    "fig2.update_layout(\n",
    "    title_text = 'Aantal schietincidenten (2013 - 2017)',\n",
    "    geo_scope='usa',\n",
    ")\n",
    "\n",
    "fig2.show() "
   ]
  },
  {
   "cell_type": "markdown",
   "id": "13355814",
   "metadata": {},
   "source": [
    "> *Figuur 6. Choropleth-kaart van aantal schietincidenten (2013-2017). Per staat wordt het aantal schietincidenten weergegeven. Hoe hoger het aantal schietincidenten van de desbetreffende staat is, hoe donkerder de kleur van de staat wordt in een kleurenpallet, lopend van lichtgroen naar donkergroen.*"
   ]
  },
  {
   "cell_type": "markdown",
   "id": "24ef419c",
   "metadata": {},
   "source": [
    "Figuur 5 geeft geografisch het BBP per staat weer. Hoe donkerder de kleur van een staat, hoe hoger het BBP. In figuur 6 wordt het aantal schietincidenten per staat geografisch geïllustreerd. In dit geval betekent een donkerdere kleur een hoger aantal schietincidenten. Deze twee figuren tonen echter aan dat een hoger BBP niet per se betekent dat er minder schietincidenten plaatsvinden. Er zijn hiervoor een aantal voorbeelden te vinden. Ten eerste, de staat met de meeste schietincidenten, Texas. Toch heeft Texas een vrij hoog BBP van 54.2K. Een ander voorbeeld is Illinois. Deze staat heeft het op een na hoogste aantal schietincidenten per jaar, na Texas. Dat terwijl Illinois zeker niet het laagste BBP heeft, maar eerder een gemiddeld BBP van 53.709K. Ook zijn er tegenovergestelde voorbeelden van staten met een laag BBP en een relatief laag aantal schietincidenten. Zo heeft Arizona 480 schietincidenten per jaar, dat zijn er 2796 minder dan in Texas. Het BBP in Arizona is een stuk lager, namelijk 38.787K. Ook Mississippi, de staat met het laagste BBP van 31.714K heeft een onder gemiddeld aantal schietincidenten, namelijk 661 per jaar. Je kan dus concluderen dat hoger BBP niet betekent dat er minder schietincidenten zijn, of andersom."
   ]
  },
  {
   "cell_type": "markdown",
   "id": "a7ee575a",
   "metadata": {},
   "source": [
    "## Reflectie\n",
    "\n",
    "Tijdens één van de werkgroepen heeft peer feedback plaatsgevonden met enkele mede-studenten en de TA van dezelfde werkgroep. De mede-studenten gaven als feedback om consistent te blijven noteren dat de data over alleen de VS gaat. De TA gaf feedback over wat niet nuttig zou zijn voor de data story en hoe de nog niet ingevulde argumenten vorm zouden kunnen worden weergegeven. \n",
    "\n",
    "De draft-versie bevatte een staafdiagram met op de x-as het BBP en op de y-as de staten uit de VS, waarbij de staten werden gerangschikt van hoog BBP naar laag BBP. De data story benadrukt, net zoals wat de mede-studenten als feedback gaven, de VS als geheel en niet per staat. Hierdoor zou dit staafdiagram niet veel toevoegen aan het verhaal. Daarom is dit staafdiagram uit de data story verwijderd.\n",
    "\n",
    "Daarnaast gaf de TA advies over hoe de choropleth-kaarten gebruikt zouden kunnen worden als argumenten. Zo zouden de choropleth-kaarten kunnen worden gebruikt voor het tweede perspectief. In de choropleth-kaart met het gemiddelde BBP zijn staten te zien met bijvoorbeeld een hoog BBP en in de choropleth-kaart met het aantal schietincidenten zijn bijvoorbeeld respectievelijk dezelfde staten terug te vinden met een hoog aantal schietincidenten. Dit zou erop duiden dat het BBP geen invloed zou hebben op het aantal schietincidenten.\n",
    "\n",
    "Bovendien gaf de TA aan hoe dezelfde data uit de choropleth-kaarten gebruikt zouden kunnen worden voor het eerste perspectief. Zo zouden bijvoorbeeld door middel van \"framing\" specifiek staten kunnen worden uitgekozen die een hoog BBP en een laag aantal schietincidenten hebben. Dit zou erop duiden dat het BBP invloed zou hebben op het aantal schietincidenten. De TA benoemde dit ook wel als \"cherry picking\", een concept wat zou mogen worden gebruikt ter verdediging van een perspectief."
   ]
  },
  {
   "cell_type": "markdown",
   "id": "67902d1a",
   "metadata": {},
   "source": [
    "## Taakverdeling\n",
    "\n",
    "We begonnen met z'n allen met het uitwerken van ideeën in de introductie. Zo hebben we met z'n allen nagedacht over de grafieken in de introductie, heeft Benjamin deze grafieken gecodeerd en heeft Lile de tekst hierbij geschreven. Voor het stuk 'dataset en preprocessing' hebben we met z'n allen gezocht naar geschikte datasets, waarbij Benjamin de gevonden datasets heeft opgeschoond. Voor het eerste perspectief is Lile op zoek gegaan naar meer datasets ter ondersteuning van de argumenten en heeft wederom Benjamin deze datasets opgeschoond. Benjamin heeft voor het eerste argument van het eerste perspectief de visualisaties gemaakt, waarbij Benjamin samen met Lile de tekst hierbij hebben geschreven. Het tweede argument van het eerste perspectief heeft Rutger verder uitgewerkt, waarbij Rutger de visualisaties heeft gemaakt en de tekst van heeft uitgewerkt. Het eerste argument van het tweede perspectief heeft Benjamin uitgewerkt, waarbij Benjamin zowel de visualisatie als de tekst heeft uitgewerkt. Voor het tweede argument van het tweede perspectief heeft Benjamin de visualisaties gemaakt en heeft Mouna de tekst hierbij uitgewerkt. Bij alle figuren heeft Lile de figuurnamen en omschrijvingen geschreven. Daarnaast heeft Lile de reflectie en taakverdeling geschreven. \n",
    "\n",
    "De verantwoordelijkheid over GitHub hebben we aan Lile overgelaten. Hierbij leek het ons handig om één iemand met GitHub bezig te laten gaan, aangezien we dit een moeilijk onderdeel van de opdracht vonden. Door niet met z'n allen aan GitHub te werken, hebben we hierdoor meer tijd kunnen besteden aan de opdracht zelf, stel het lukte niet om GitHub Pages te laten werken. Ondanks dat alleen Lile commits heeft gemaakt, hebben we wel met z'n allen aan de opdracht gewerkt en hierbij dus een eerlijke taakverdeling gemaakt."
   ]
  },
  {
   "cell_type": "markdown",
   "id": "b2be98ce",
   "metadata": {},
   "source": [
    "## Referenties\n",
    "\n",
    "*Bruto binnenlands product - Wat is dat? | SumUp Facturen*. (z.d.). SumUp - de slimme manier om betalingen te accepteren. Geraadpleegd op 29 juni 2023, van https://www.sumup.com/nl-nl/facturen/woordenboek/bbp/\n",
    "\n",
    "Everytown for Gun Safety Support Fund. (2022). *The Economic Cost of Gun Violence*. Everytown Research & Policy. https://everytownresearch.org/report/the-economic-cost-of-gun-violence/?_gl=1*qram1*_ga*NjAzMDQwMjcwLjE2ODcyOTkwODg.*_ga_LT0FWV3EK3*MTY4NzQ2MzI1OC4yLjAuMTY4NzQ2MzI1OC4wLjAuMA\n",
    "\n",
    "*Gross domestic product (GDP)*. (2017). \\[Dataset]\\. https://doi.org/10.1787/dc2f7aec-en\n",
    "\n",
    "Koop, A. (2023). *Top 10 Countries By GDP Per Capita, by Region*. Visual Capitalist. Geraadpleegd op 29 juni 2023, van https://www.visualcapitalist.com/cp/ranked-countries-gdp-per-capita-2023/#:~:text=Luxembourg%2C%20Ireland%2C%20and%20Norway%20lead,region%2C%20explaining%20their%20relative%20prosperity.\n",
    "\n",
    "Mascia, J. (2023). How Many Guns Are Circulating in the U.S.? *The Trace*. https://www.thetrace.org/2023/03/guns-america-data-atf-total/#:~:text=In%202020%2C%20the%20group%20reported,account%20for%20guns%20leaving%20circulation\n",
    "\n",
    "Schildkraut, J., & Turanovic, J. J. (2022). A New Wave of Mass Shootings? Exploring the Potential Impact of COVID-19. *Homicide Studies*, *26*(4), 362–378. https://doi.org/10.1177/10887679221101605\n",
    "\n",
    "Silva, J. R. (2021). Mass Shooting Outcomes: A Comparison of Completed, Attempted, Failed, and Foiled Incidents in America. *Deviant Behavior*, *43*(12), 1487–1506. https://doi.org/10.1080/01639625.2021.1991248\n",
    "\n",
    "Pearlstein, J. (2018). The US Is the Only Country Where There Are More Guns Than People. *WIRED*. Geraadpleegd op 19 juni 2023, van https://www.wired.com/story/guns-in-america-five-charts/\n",
    "\n",
    "World Population Review. (z.d.). *Gun Deaths by Country 2023*. Geraadpleegd op 29 juni 2023, van https://worldpopulationreview.com/country-rankings/gun-deaths-by-country"
   ]
  }
 ],
 "metadata": {
  "celltoolbar": "Tags",
  "kernelspec": {
   "display_name": "Python 3 (ipykernel)",
   "language": "python",
   "name": "python3"
  },
  "language_info": {
   "codemirror_mode": {
    "name": "ipython",
    "version": 3
   },
   "file_extension": ".py",
   "mimetype": "text/x-python",
   "name": "python",
   "nbconvert_exporter": "python",
   "pygments_lexer": "ipython3",
   "version": "3.9.12"
  }
 },
 "nbformat": 4,
 "nbformat_minor": 5
}
